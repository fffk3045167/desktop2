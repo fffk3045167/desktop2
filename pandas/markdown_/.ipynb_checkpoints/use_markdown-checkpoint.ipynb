{
 "cells": [
  {
   "cell_type": "markdown",
   "metadata": {},
   "source": [
    "# 一级标题\n",
    "## 二级标题\n",
    " **粗体** ，__bold__ , *斜体* _italic_ \n",
    "* 列表\n",
    "    * 缩进\n",
    "1. 编号\n",
    "2. 有序列表\n",
    "\n",
    "[超链接](https://cn.bing.com/)\n",
    "\n",
    "内联代码使用倒引号: `foo()`\n",
    "代码块使用三个倒引号\n",
    "```\n",
    "import pandas as pd\n",
    "import matplotlib.pyplot as plt\n",
    "import seaborn as sns\n",
    "```\n"
   ]
  },
  {
   "cell_type": "code",
   "execution_count": null,
   "metadata": {},
   "outputs": [],
   "source": []
  }
 ],
 "metadata": {
  "kernelspec": {
   "display_name": "Python 3",
   "language": "python",
   "name": "python3"
  },
  "language_info": {
   "codemirror_mode": {
    "name": "ipython",
    "version": 3
   },
   "file_extension": ".py",
   "mimetype": "text/x-python",
   "name": "python",
   "nbconvert_exporter": "python",
   "pygments_lexer": "ipython3",
   "version": "3.7.4"
  }
 },
 "nbformat": 4,
 "nbformat_minor": 2
}
