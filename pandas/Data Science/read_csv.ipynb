{
 "cells": [
  {
   "cell_type": "markdown",
   "metadata": {},
   "source": [
    "### CSV数据的读取"
   ]
  },
  {
   "cell_type": "code",
   "execution_count": 1,
   "metadata": {},
   "outputs": [
    {
     "name": "stdout",
     "output_type": "stream",
     "text": [
      "[178.02 178.65 178.44 179.97 181.72 179.98 176.94 175.03 176.67 176.82\n",
      " 176.21 175.   178.12 178.39 178.97 175.5  172.5  171.07 171.85 172.43\n",
      " 172.99 167.37 164.34 162.71 156.41 155.15 159.54 163.03 156.49 160.5\n",
      " 167.78 167.43 166.97 167.96 171.51 171.11 174.22 177.04 177.   178.46\n",
      " 179.26 179.1  176.19 177.09 175.28 174.29 174.33 174.35 175.   173.03\n",
      " 172.23 172.26 169.23 171.08 170.6  170.57 175.01 175.01 174.35 174.54\n",
      " 176.42]\n",
      "[38313330. 22676520. 29334630. 31464170. 32191070. 32130360. 24518850.\n",
      " 31686450. 23273160. 27825140. 38426060. 48706170. 37568080. 38885510.\n",
      " 37353670. 33772050. 30953760. 37378070. 33690660. 40113790. 50908540.\n",
      " 40382890. 32483310. 60774900. 70583530. 54145930. 51467440. 68171940.\n",
      " 72215320. 85957050. 44453230. 32234520. 45635470. 50565420. 39075250.\n",
      " 41438280. 51368540. 32395870. 27052000. 31306390. 31087330. 34260230.\n",
      " 29512410. 25302200. 18653380. 23751690. 21532200. 20523870. 23589930.\n",
      " 22342650. 29461040. 25400540. 25938760. 16412270. 21477380. 33113340.\n",
      " 16339690. 20848660. 23451420. 27393660. 29385650.]\n"
     ]
    }
   ],
   "source": [
    "import numpy as np\n",
    "\n",
    "c, v = np.loadtxt('datafile.csv', delimiter=',', usecols=(1, 2), unpack=True) \n",
    "print(c) \n",
    "print(v)"
   ]
  },
  {
   "cell_type": "code",
   "execution_count": 2,
   "metadata": {},
   "outputs": [
    {
     "name": "stdout",
     "output_type": "stream",
     "text": [
      "172.61491803278687\n",
      "181.72 155.15\n",
      "26.569999999999993\n",
      "174.35\n",
      "37.598552862133815\n",
      "37.598552862133815\n"
     ]
    }
   ],
   "source": [
    "# 算术平均值\n",
    "mean_c = np.mean(c)\n",
    "print(mean_c)\n",
    "# 最值，最值之差\n",
    "print(np.max(c), np.min(c))\n",
    "print(np.ptp(c))\n",
    "# 中位数\n",
    "print(np.median(c))\n",
    "# 方差\n",
    "print(np.var(c))\n",
    "# 根据方差定义求方差（方差指的是各个数据与所有数据算数平均数的离差平方和的均值）\n",
    "print(np.mean((c - c.mean())**2))"
   ]
  },
  {
   "cell_type": "markdown",
   "metadata": {},
   "source": [
    "### 常用指标分析方法\n",
    "收益率分析：用今天的收盘价减去昨天的收盘价，再除以昨天的收盘价格。\n",
    "\n",
    "`diff`函数时用数组的第`N`项减第`N-1`项，得到一个`n-1`项的一维数组。本例中我们注意到数组中日期越近的收盘价，数组索引越小，因此得取一个相反数"
   ]
  },
  {
   "cell_type": "code",
   "execution_count": 3,
   "metadata": {},
   "outputs": [
    {
     "name": "stdout",
     "output_type": "stream",
     "text": [
      "[-0.00352645  0.00117687 -0.00850142 -0.0096302   0.00966774  0.01718097\n",
      "  0.01091242 -0.00928284 -0.00084832  0.00346178  0.00691429 -0.01751628\n",
      " -0.00151354 -0.00324077  0.01977208  0.0173913   0.00835915 -0.00453884\n",
      " -0.00336368 -0.00323718  0.0335783   0.01843739  0.01001782  0.04027875\n",
      "  0.00812117 -0.02751661 -0.0214071   0.04179181 -0.02498442 -0.04339015\n",
      "  0.00209043  0.00275499 -0.00589426 -0.0206985   0.00233768 -0.01785099\n",
      " -0.0159286   0.00022599 -0.00818111 -0.00446279  0.00089336  0.01651626\n",
      " -0.00508216  0.01032634  0.00568019 -0.00022945 -0.00011471 -0.00371429\n",
      "  0.01138531  0.00464495 -0.00017416  0.01790463 -0.01081365  0.0028136\n",
      "  0.00017588 -0.02536998 -0.          0.00378549 -0.00108858 -0.01065639]\n"
     ]
    }
   ],
   "source": [
    "returns = -np.diff(c)/c[1:] \n",
    "print(returns)"
   ]
  },
  {
   "cell_type": "markdown",
   "metadata": {},
   "source": [
    "然后观察一下每日收益的标准差，就可以看看收益的波动大不大了"
   ]
  },
  {
   "cell_type": "code",
   "execution_count": 4,
   "metadata": {},
   "outputs": [
    {
     "name": "stdout",
     "output_type": "stream",
     "text": [
      "0.01507803284540127\n"
     ]
    }
   ],
   "source": [
    "print(np.std(returns))"
   ]
  },
  {
   "cell_type": "markdown",
   "metadata": {},
   "source": [
    "看哪天的收益率是正的"
   ]
  },
  {
   "cell_type": "code",
   "execution_count": 5,
   "metadata": {},
   "outputs": [
    {
     "name": "stdout",
     "output_type": "stream",
     "text": [
      "(array([ 1,  4,  5,  6,  9, 10, 14, 15, 16, 20, 21, 22, 23, 24, 27, 30, 31,\n",
      "       34, 37, 40, 41, 43, 44, 48, 49, 51, 53, 54, 57], dtype=int64),)\n"
     ]
    }
   ],
   "source": [
    "print(np.where(returns > 0))"
   ]
  },
  {
   "cell_type": "markdown",
   "metadata": {},
   "source": [
    "## 波动率计算\n",
    "专业上我们对价格变动可以用一个叫做“波动率”的指标进行度量。计算历史波动率时需要用到对数收益率，对数收益率很简单，就是$log\\frac{C_{t+1}}{C_{t}}$, 依照对数的性质，他等于$log{C_{t+1}}-log{C_{t}}$\n",
    "\n",
    "在计算年化波动率时，要用样本中所有的对数收益率的标准差除以其均值，再除以交易日倒数的平方根，一年交易日取`252`天。"
   ]
  },
  {
   "cell_type": "code",
   "execution_count": 6,
   "metadata": {},
   "outputs": [
    {
     "name": "stdout",
     "output_type": "stream",
     "text": [
      "100.09675738825683\n",
      "1588.9867625597685\n"
     ]
    }
   ],
   "source": [
    "logreturns = -np.diff(np.log(c))\n",
    "volatility = np.std(logreturns) / np.mean(logreturns)\n",
    "annual_volatility = volatility / np.sqrt(1. / 252.)\n",
    "print(volatility)\n",
    "print(annual_volatility)"
   ]
  },
  {
   "cell_type": "markdown",
   "metadata": {},
   "source": [
    "## 日期的处理方法"
   ]
  },
  {
   "cell_type": "code",
   "execution_count": 9,
   "metadata": {},
   "outputs": [
    {
     "name": "stdout",
     "output_type": "stream",
     "text": [
      "<class 'datetime.datetime'>\n",
      "2020-06-19 00:00:00\n"
     ]
    }
   ],
   "source": [
    "# 对日期字符串进行一些转换处理\n",
    "import datetime\n",
    "\n",
    "str_date = '2020/6/19'\n",
    "d = datetime.datetime.strptime(str_date, '%Y/%m/%d')\n",
    "print(type(d))\n",
    "print(d)"
   ]
  },
  {
   "cell_type": "markdown",
   "metadata": {},
   "source": [
    "通过`python`标准库中的`datetime`函数包，我们通过指定匹配的格式`%Y/%m/%d`\n",
    "\n",
    "将日期字符串转换为了`datetime`类型对象，`Y`大写匹配完整的四位数记年，`y`小写就是两位数，例如`20`\n",
    "\n",
    "`datetime`对象有一个`date`方法，把`datetime`对象中的`time`部分去掉，变成一个纯的日期"
   ]
  },
  {
   "cell_type": "code",
   "execution_count": 10,
   "metadata": {},
   "outputs": [
    {
     "name": "stdout",
     "output_type": "stream",
     "text": [
      "2020-06-19\n"
     ]
    }
   ],
   "source": [
    "print(d.date())"
   ]
  },
  {
   "cell_type": "markdown",
   "metadata": {},
   "source": [
    "## 综合分析"
   ]
  },
  {
   "cell_type": "code",
   "execution_count": 15,
   "metadata": {},
   "outputs": [
    {
     "name": "stdout",
     "output_type": "stream",
     "text": [
      "Day 0 prices: [[181.72 175.   171.85 155.15 166.97 178.46 174.33 171.08 176.42]],avg=172.3311111111111\n",
      "Day 1 prices: [[179.97 176.21 171.07 156.41 167.43 177.   174.29 169.23 174.54]],avg=171.79444444444445\n",
      "Day 2 prices: [[178.44 176.82 172.5  162.71 167.78 177.04 175.28 172.26 174.35]],avg=173.01999999999998\n",
      "Day 3 prices: [[178.65 176.67 175.5  164.34 160.5  174.22 177.09 172.23 175.01]],avg=172.69\n",
      "Day 4 prices: [[178.02 175.03 178.97 167.37 156.49 171.11 176.19 173.03 175.01]],avg=172.35777777777778\n",
      "highest:173.01999999999998, top day is 2\n",
      "lowest:171.79444444444445, bottom day is 1\n"
     ]
    }
   ],
   "source": [
    "def datestr2num(bytedate):  \n",
    "    return datetime.datetime.strptime(\n",
    "                  bytedate.decode('utf-8'),'%Y/%m/%d').date().weekday()  \n",
    "\n",
    "dates,c = np.loadtxt('datafile.csv', delimiter=',', usecols=(0,1), converters={0: datestr2num}, unpack=True)\n",
    "averages = np.zeros(5)\n",
    "\n",
    "for i in range(5):     \n",
    "    index = np.where(dates == i)     \n",
    "    prices = np.take(c, index)     \n",
    "    avg = np.mean(prices)     \n",
    "    averages[i] = avg\n",
    "    print(\"Day {} prices: {},avg={}\".format(i,prices,avg)) \n",
    "\n",
    "top = np.max(averages) \n",
    "top_index = np.argmax(averages) \n",
    "bot = np.min(averages) \n",
    "bot_index = np.argmin(averages) \n",
    "print('highest:{}, top day is {}'.format(top,top_index)) \n",
    "print('lowest:{}, bottom day is {}'.format(bot,bot_index))"
   ]
  },
  {
   "cell_type": "markdown",
   "metadata": {},
   "source": [
    "**简单分析：** 由于从`csv`中读取的数据类型为`bytes`，所以我们写了一个转换函数，先将`bytes`类型的日期数据进行解码`bytedate.decode('utf-8')`，`weekday()`表示转换为一个表示周几的数字\n",
    "\n",
    "`np.loadtxt`函数中的参数`converters={0: datestr2num}`，就是说针对第一列的数据，我们利用这个转换函数将其转化为一个数字，并将这个整形元素构成的数组赋值给`dates`变量\n",
    "\n",
    "最后，用循环依次取出每个工作日的收盘价构成的数组，对其求平均值。然后得到周一到周五，五个平均值的最大值、最小值"
   ]
  },
  {
   "cell_type": "markdown",
   "metadata": {},
   "source": [
    "**两个使用函数：** \n",
    "* **裁剪函数** "
   ]
  },
  {
   "cell_type": "code",
   "execution_count": 16,
   "metadata": {},
   "outputs": [
    {
     "name": "stdout",
     "output_type": "stream",
     "text": [
      "[1 1 2 3 3]\n"
     ]
    }
   ],
   "source": [
    "a = np.arange(5)\n",
    "print(a.clip(1,3))"
   ]
  },
  {
   "cell_type": "markdown",
   "metadata": {},
   "source": [
    "* **筛选函数**"
   ]
  },
  {
   "cell_type": "code",
   "execution_count": 17,
   "metadata": {},
   "outputs": [
    {
     "name": "stdout",
     "output_type": "stream",
     "text": [
      "[3 4]\n"
     ]
    }
   ],
   "source": [
    "print(a.compress(a > 2))"
   ]
  }
 ],
 "metadata": {
  "kernelspec": {
   "display_name": "Python 3",
   "language": "python",
   "name": "python3"
  },
  "language_info": {
   "codemirror_mode": {
    "name": "ipython",
    "version": 3
   },
   "file_extension": ".py",
   "mimetype": "text/x-python",
   "name": "python",
   "nbconvert_exporter": "python",
   "pygments_lexer": "ipython3",
   "version": "3.7.4"
  }
 },
 "nbformat": 4,
 "nbformat_minor": 2
}
