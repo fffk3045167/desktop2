{
 "cells": [
  {
   "cell_type": "markdown",
   "metadata": {},
   "source": [
    "# `DataFrame`对象的数据选取"
   ]
  },
  {
   "cell_type": "code",
   "execution_count": 1,
   "metadata": {},
   "outputs": [
    {
     "name": "stdout",
     "output_type": "stream",
     "text": [
      "              area       pop\n",
      "California  423967  38332521\n",
      "Texas       695662  26448193\n",
      "New York    141297  19651127\n",
      "Floriade    170312  19552860\n",
      "Illinois    149995  12882135\n"
     ]
    }
   ],
   "source": [
    "import pandas as pd\n",
    "\n",
    "area = pd.Series({'California':423967,'Texas':695662,\n",
    "                  'New York':141297,'Floriade':170312,\n",
    "                  'Illinois':149995})\n",
    "\n",
    "pop = pd.Series({'California':38332521,'Texas':26448193,\n",
    "                  'New York':19651127,'Floriade':19552860,\n",
    "                  'Illinois':12882135})\n",
    "\n",
    "data = pd.DataFrame({'area':area, 'pop':pop})\n",
    "print(data)"
   ]
  },
  {
   "cell_type": "markdown",
   "metadata": {},
   "source": [
    "由于`DataFrame`本质上反映的是列标签与`Series`的映射关系，所以对列名进行字典形式的取值，可以获取相应的`Series`列数据"
   ]
  },
  {
   "cell_type": "code",
   "execution_count": 2,
   "metadata": {},
   "outputs": [
    {
     "name": "stdout",
     "output_type": "stream",
     "text": [
      "California    423967\n",
      "Texas         695662\n",
      "New York      141297\n",
      "Floriade      170312\n",
      "Illinois      149995\n",
      "Name: area, dtype: int64\n"
     ]
    }
   ],
   "source": [
    "print(data['area'])"
   ]
  },
  {
   "cell_type": "markdown",
   "metadata": {},
   "source": [
    "使用字典语法进行列扩充"
   ]
  },
  {
   "cell_type": "code",
   "execution_count": 3,
   "metadata": {},
   "outputs": [
    {
     "name": "stdout",
     "output_type": "stream",
     "text": [
      "              area       pop  a  b\n",
      "California  423967  38332521  1  0\n",
      "Texas       695662  26448193  2  0\n",
      "New York    141297  19651127  3  0\n",
      "Floriade    170312  19552860  4  0\n",
      "Illinois    149995  12882135  5  0\n"
     ]
    }
   ],
   "source": [
    "data['a'] = [1,2,3,4,5]\n",
    "data['b'] = 0\n",
    "print(data)"
   ]
  },
  {
   "cell_type": "markdown",
   "metadata": {},
   "source": [
    "计算每个州人口密度"
   ]
  },
  {
   "cell_type": "code",
   "execution_count": 5,
   "metadata": {},
   "outputs": [
    {
     "name": "stdout",
     "output_type": "stream",
     "text": [
      "              area       pop     density\n",
      "California  423967  38332521   90.413926\n",
      "Texas       695662  26448193   38.018740\n",
      "New York    141297  19651127  139.076746\n",
      "Floriade    170312  19552860  114.806121\n",
      "Illinois    149995  12882135   85.883763\n"
     ]
    }
   ],
   "source": [
    "data = pd.DataFrame({'area':area, 'pop':pop})\n",
    "data['density'] = data['pop'] / data['area']\n",
    "print(data)"
   ]
  },
  {
   "cell_type": "markdown",
   "metadata": {},
   "source": [
    "### 类比`ndarray`获取数据\n",
    "用`values`属性，可以获得一个二维`ndarray`二维数组"
   ]
  },
  {
   "cell_type": "code",
   "execution_count": 6,
   "metadata": {},
   "outputs": [
    {
     "name": "stdout",
     "output_type": "stream",
     "text": [
      "[[4.23967000e+05 3.83325210e+07 9.04139261e+01]\n",
      " [6.95662000e+05 2.64481930e+07 3.80187404e+01]\n",
      " [1.41297000e+05 1.96511270e+07 1.39076746e+02]\n",
      " [1.70312000e+05 1.95528600e+07 1.14806121e+02]\n",
      " [1.49995000e+05 1.28821350e+07 8.58837628e+01]]\n"
     ]
    }
   ],
   "source": [
    "print(data.values)"
   ]
  },
  {
   "cell_type": "markdown",
   "metadata": {},
   "source": [
    "通过`values`属性可以获取二维`ndarray`数组形式的数据之后，我们自然可以像操作二维数组一样，对其进行行索引和值的索引"
   ]
  },
  {
   "cell_type": "code",
   "execution_count": 7,
   "metadata": {},
   "outputs": [
    {
     "name": "stdout",
     "output_type": "stream",
     "text": [
      "[1.41297000e+05 1.96511270e+07 1.39076746e+02]\n",
      "26448193.0\n",
      "[[6.95662000e+05 2.64481930e+07 3.80187404e+01]\n",
      " [1.41297000e+05 1.96511270e+07 1.39076746e+02]]\n"
     ]
    }
   ],
   "source": [
    "print(data.values[2])\n",
    "print(data.values[1][1])\n",
    "print(data.values[1:][:2])"
   ]
  },
  {
   "cell_type": "markdown",
   "metadata": {},
   "source": [
    "### 三种索引器的行列索引方法\n",
    "\n",
    "* **`iloc`索引:** 无论是行还是列，都采用隐式的整数索引进行分片，规则都是左闭右开"
   ]
  },
  {
   "cell_type": "code",
   "execution_count": 8,
   "metadata": {},
   "outputs": [
    {
     "name": "stdout",
     "output_type": "stream",
     "text": [
      "                 pop\n",
      "California  38332521\n",
      "Texas       26448193\n"
     ]
    }
   ],
   "source": [
    "print(data.iloc[:2,1:2])"
   ]
  },
  {
   "cell_type": "markdown",
   "metadata": {},
   "source": [
    "* **`loc`索引：** 采用显式的标签值索引进行分片，规则是左右都取"
   ]
  },
  {
   "cell_type": "code",
   "execution_count": 11,
   "metadata": {},
   "outputs": [
    {
     "name": "stdout",
     "output_type": "stream",
     "text": [
      "              area       pop     density\n",
      "California  423967  38332521   90.413926\n",
      "Texas       695662  26448193   38.018740\n",
      "New York    141297  19651127  139.076746\n",
      "Floriade    170312  19552860  114.806121\n",
      "Illinois    149995  12882135   85.883763\n",
      "              area       pop\n",
      "California  423967  38332521\n",
      "Texas       695662  26448193\n",
      "New York    141297  19651127\n",
      "Floriade    170312  19552860\n"
     ]
    }
   ],
   "source": [
    "print(data)\n",
    "print(data.loc[:'Floriade', 'area':'pop'])"
   ]
  },
  {
   "cell_type": "markdown",
   "metadata": {},
   "source": [
    "* **`ix`索引：** 隐式整数索引进行行的分片，利用显式标签名称进行列的分片"
   ]
  },
  {
   "cell_type": "code",
   "execution_count": 13,
   "metadata": {},
   "outputs": [
    {
     "name": "stdout",
     "output_type": "stream",
     "text": [
      "              area       pop     density\n",
      "California  423967  38332521   90.413926\n",
      "Texas       695662  26448193   38.018740\n",
      "New York    141297  19651127  139.076746\n",
      "Floriade    170312  19552860  114.806121\n",
      "Illinois    149995  12882135   85.883763\n",
      "              area       pop\n",
      "California  423967  38332521\n",
      "Texas       695662  26448193\n",
      "New York    141297  19651127\n",
      "              area     density\n",
      "California  423967   90.413926\n",
      "Texas       695662   38.018740\n",
      "New York    141297  139.076746\n"
     ]
    },
    {
     "name": "stderr",
     "output_type": "stream",
     "text": [
      "D:\\Ananconda\\lib\\site-packages\\ipykernel_launcher.py:3: FutureWarning: \n",
      ".ix is deprecated. Please use\n",
      ".loc for label based indexing or\n",
      ".iloc for positional indexing\n",
      "\n",
      "See the documentation here:\n",
      "http://pandas.pydata.org/pandas-docs/stable/user_guide/indexing.html#ix-indexer-is-deprecated\n",
      "  This is separate from the ipykernel package so we can avoid doing imports until\n",
      "D:\\Ananconda\\lib\\site-packages\\ipykernel_launcher.py:5: FutureWarning: \n",
      ".ix is deprecated. Please use\n",
      ".loc for label based indexing or\n",
      ".iloc for positional indexing\n",
      "\n",
      "See the documentation here:\n",
      "http://pandas.pydata.org/pandas-docs/stable/user_guide/indexing.html#ix-indexer-is-deprecated\n",
      "  \"\"\"\n"
     ]
    }
   ],
   "source": [
    "print(data)\n",
    "# 对列的选取：连续的分片方式\n",
    "print(data.ix[:3, 'area':'pop'])\n",
    "# 对列的选取：指定列名方式\n",
    "print(data.ix[:3, ['area','density']])"
   ]
  },
  {
   "cell_type": "markdown",
   "metadata": {},
   "source": [
    "**只对行进行分片操作，不需要索引器**"
   ]
  },
  {
   "cell_type": "code",
   "execution_count": 16,
   "metadata": {},
   "outputs": [
    {
     "name": "stdout",
     "output_type": "stream",
     "text": [
      "              area       pop     density\n",
      "California  423967  38332521   90.413926\n",
      "Texas       695662  26448193   38.018740\n",
      "New York    141297  19651127  139.076746\n",
      "Floriade    170312  19552860  114.806121\n",
      "Illinois    149995  12882135   85.883763\n",
      "            area       pop     density\n",
      "Texas     695662  26448193   38.018740\n",
      "New York  141297  19651127  139.076746\n",
      "Floriade  170312  19552860  114.806121\n",
      "            area       pop     density\n",
      "Texas     695662  26448193   38.018740\n",
      "New York  141297  19651127  139.076746\n"
     ]
    }
   ],
   "source": [
    "print(data)\n",
    "print(data['Texas':'Floriade'])\n",
    "print(data[1:3])"
   ]
  },
  {
   "cell_type": "markdown",
   "metadata": {},
   "source": [
    "### 注意：如果`[ ]`中只有一个值，那就是对列进行索引，如果是分片那就是对行进行操作"
   ]
  },
  {
   "cell_type": "markdown",
   "metadata": {},
   "source": [
    "## `DataFrame`的条件过滤操作"
   ]
  },
  {
   "cell_type": "code",
   "execution_count": 17,
   "metadata": {},
   "outputs": [
    {
     "name": "stdout",
     "output_type": "stream",
     "text": [
      "            area       pop     density\n",
      "New York  141297  19651127  139.076746\n",
      "Floriade  170312  19552860  114.806121\n"
     ]
    }
   ],
   "source": [
    "print(data[data['density'] > 100])"
   ]
  },
  {
   "cell_type": "code",
   "execution_count": 19,
   "metadata": {},
   "outputs": [
    {
     "name": "stdout",
     "output_type": "stream",
     "text": [
      "            area     density\n",
      "New York  141297  139.076746\n",
      "Floriade  170312  114.806121\n"
     ]
    }
   ],
   "source": [
    "print(data.loc[data['density'] > 100, ['area','density']])"
   ]
  },
  {
   "cell_type": "markdown",
   "metadata": {},
   "source": [
    "## `DataFrame`数据值的修改\n",
    "如果想要修改`DataFrame`中的某个值，使用任何一种索引器方法定位到具体的一个数据项，即可办到"
   ]
  },
  {
   "cell_type": "code",
   "execution_count": 20,
   "metadata": {},
   "outputs": [
    {
     "name": "stdout",
     "output_type": "stream",
     "text": [
      "               area       pop     density\n",
      "California   423967  38332521   90.413926\n",
      "Texas        695662  26448193   38.018740\n",
      "New York     141297  19651127  139.076746\n",
      "Floriade    9999999  19552860  114.806121\n",
      "Illinois     149995   8888888   85.883763\n"
     ]
    }
   ],
   "source": [
    "data.loc['Floriade', 'area'] = 9999999\n",
    "data.iloc[4,1] = 8888888\n",
    "print(data)"
   ]
  }
 ],
 "metadata": {
  "kernelspec": {
   "display_name": "Python 3",
   "language": "python",
   "name": "python3"
  },
  "language_info": {
   "codemirror_mode": {
    "name": "ipython",
    "version": 3
   },
   "file_extension": ".py",
   "mimetype": "text/x-python",
   "name": "python",
   "nbconvert_exporter": "python",
   "pygments_lexer": "ipython3",
   "version": "3.7.4"
  }
 },
 "nbformat": 4,
 "nbformat_minor": 2
}
