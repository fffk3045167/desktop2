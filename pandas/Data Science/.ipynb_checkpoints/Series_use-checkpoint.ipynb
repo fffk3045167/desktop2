{
 "cells": [
  {
   "cell_type": "markdown",
   "metadata": {},
   "source": [
    "# `Series`数据对象使用"
   ]
  },
  {
   "cell_type": "markdown",
   "metadata": {},
   "source": [
    "**构成`Pandas`的三大数据结构基石是：`Series`、`DataFrame`、`Index`。** `Pandas`对于数据的任何处理工作，都是由他们来实现"
   ]
  },
  {
   "cell_type": "markdown",
   "metadata": {},
   "source": [
    "### `Series`是增强版的数组\n",
    "`Series`对象是一个**带索引数据**的一维数组，可以视作是增强版的`NumPy`结构"
   ]
  },
  {
   "cell_type": "code",
   "execution_count": 1,
   "metadata": {},
   "outputs": [
    {
     "name": "stdout",
     "output_type": "stream",
     "text": [
      "0    0.25\n",
      "1    0.50\n",
      "2    0.75\n",
      "3    1.00\n",
      "dtype: float64\n"
     ]
    }
   ],
   "source": [
    "import pandas as pd\n",
    "\n",
    "data = pd.Series([0.25, 0.5, 0.75, 1])\n",
    "print(data)"
   ]
  },
  {
   "cell_type": "markdown",
   "metadata": {},
   "source": [
    "**索引和数据**\n",
    "\n",
    "通过`values`属性获取`Series`的数据部分，类型是`numpy`里的`ndarray`数组\n",
    "\n",
    "通过`index`属性返回索引对象，索引对象是一类数组"
   ]
  },
  {
   "cell_type": "code",
   "execution_count": 2,
   "metadata": {},
   "outputs": [
    {
     "name": "stdout",
     "output_type": "stream",
     "text": [
      "[0.25 0.5  0.75 1.  ]\n",
      "<class 'numpy.ndarray'>\n",
      "RangeIndex(start=0, stop=4, step=1)\n",
      "<class 'pandas.core.indexes.range.RangeIndex'>\n"
     ]
    }
   ],
   "source": [
    "print(data.values)\n",
    "print(type(data.values))\n",
    "print(data.index)\n",
    "print(type(data.index))"
   ]
  },
  {
   "cell_type": "code",
   "execution_count": 3,
   "metadata": {},
   "outputs": [
    {
     "name": "stdout",
     "output_type": "stream",
     "text": [
      "0.5\n"
     ]
    }
   ],
   "source": [
    "# 通过索引访问指定元素\n",
    "print(data[1])"
   ]
  },
  {
   "cell_type": "markdown",
   "metadata": {},
   "source": [
    "`Series`对象用一种显式定义的索引与数值关联，他的索引可以是任意类型：整数（任意顺序）、字符串、日期类型等等。"
   ]
  },
  {
   "cell_type": "code",
   "execution_count": 4,
   "metadata": {},
   "outputs": [
    {
     "name": "stdout",
     "output_type": "stream",
     "text": [
      "1.0\n"
     ]
    }
   ],
   "source": [
    "# 用字符串作为Series的索引\n",
    "data = pd.Series([0.25, 0.5, 0.75, 1], index=['aa', 'bb', 'cc', 'dd'])\n",
    "print(data['dd'])"
   ]
  },
  {
   "cell_type": "markdown",
   "metadata": {},
   "source": [
    "这里的分片操作和列表里介绍过的分片是有所区别的，即：**左右两端都包含**\n",
    "\n",
    "分片操作返回的仍是一个`Series`对象"
   ]
  },
  {
   "cell_type": "code",
   "execution_count": 5,
   "metadata": {},
   "outputs": [
    {
     "name": "stdout",
     "output_type": "stream",
     "text": [
      "bb    0.50\n",
      "cc    0.75\n",
      "dd    1.00\n",
      "dtype: float64\n",
      "<class 'pandas.core.series.Series'>\n"
     ]
    }
   ],
   "source": [
    "# 分片\n",
    "print(data['bb':'dd'])\n",
    "print(type(data['bb':'dd']))"
   ]
  },
  {
   "cell_type": "markdown",
   "metadata": {},
   "source": [
    "**使用乱序的整数数组来作为索引**"
   ]
  },
  {
   "cell_type": "code",
   "execution_count": 7,
   "metadata": {},
   "outputs": [
    {
     "name": "stdout",
     "output_type": "stream",
     "text": [
      "0.75\n",
      "0.5\n"
     ]
    }
   ],
   "source": [
    "data = pd.Series([0.25,0.5,0.75,1], index=[3,6,1,4])\n",
    "\n",
    "print(data[1])\n",
    "print(data[6])"
   ]
  },
  {
   "cell_type": "markdown",
   "metadata": {},
   "source": [
    "## 用字典生成`Series`\n",
    "**`Series`也可以看做是一种特殊的字典类型，可以把索引看做是一组键，然后将其一一映射到后面的一组值上**，因此Series也可以用字典来生成"
   ]
  },
  {
   "cell_type": "code",
   "execution_count": 8,
   "metadata": {},
   "outputs": [
    {
     "name": "stdout",
     "output_type": "stream",
     "text": [
      "AAA    23423\n",
      "BBB    43422\n",
      "CCC     3334\n",
      "dtype: int64\n",
      "43422\n"
     ]
    }
   ],
   "source": [
    "a_dict = {\n",
    "    'AAA':23423,\n",
    "    'BBB':43422,\n",
    "    'CCC':3334\n",
    "}\n",
    "\n",
    "a_ser = pd.Series(a_dict)\n",
    "print(a_ser)\n",
    "print(a_ser['BBB'])"
   ]
  },
  {
   "cell_type": "markdown",
   "metadata": {},
   "source": [
    "在用字典生成`Series`的过程中，可以额外增加一个索引参数作为过滤条件，如果索引参数`index`中含有字典中不存在的键，则新生成的`Series`会含有一个对应值为空的项"
   ]
  },
  {
   "cell_type": "code",
   "execution_count": 9,
   "metadata": {},
   "outputs": [
    {
     "name": "stdout",
     "output_type": "stream",
     "text": [
      "AAA    23423\n",
      "CCC     3334\n",
      "dtype: int64\n",
      "BBB    43422.0\n",
      "DDD        NaN\n",
      "dtype: float64\n"
     ]
    }
   ],
   "source": [
    "a_ser = pd.Series(a_dict,index=['AAA','CCC'])\n",
    "b_ser = pd.Series(a_dict,index=['BBB','DDD'])\n",
    "\n",
    "print(a_ser)\n",
    "print(b_ser)"
   ]
  }
 ],
 "metadata": {
  "kernelspec": {
   "display_name": "Python 3",
   "language": "python",
   "name": "python3"
  },
  "language_info": {
   "codemirror_mode": {
    "name": "ipython",
    "version": 3
   },
   "file_extension": ".py",
   "mimetype": "text/x-python",
   "name": "python",
   "nbconvert_exporter": "python",
   "pygments_lexer": "ipython3",
   "version": "3.7.4"
  }
 },
 "nbformat": 4,
 "nbformat_minor": 2
}
