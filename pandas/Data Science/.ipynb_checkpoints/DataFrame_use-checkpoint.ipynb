{
 "cells": [
  {
   "cell_type": "markdown",
   "metadata": {},
   "source": [
    "# `DataFrame`数据对象使用"
   ]
  },
  {
   "cell_type": "markdown",
   "metadata": {},
   "source": [
    "`DataFrame`可以被看做是既有灵活的行索引，又有灵活列索引的二维数组\n",
    "\n",
    "`DataFrame`是有序排列的若干`Series`对象，而这些`Series`对象都有相同的索引"
   ]
  },
  {
   "cell_type": "code",
   "execution_count": 1,
   "metadata": {},
   "outputs": [
    {
     "name": "stdout",
     "output_type": "stream",
     "text": [
      "California    423967\n",
      "Texas         695662\n",
      "New York      141297\n",
      "dtype: int64\n",
      "California    1.30\n",
      "Texas         0.98\n",
      "New York      1.13\n",
      "dtype: float64\n"
     ]
    }
   ],
   "source": [
    "import pandas as pd\n",
    "\n",
    "area_dict = {'California':423967,'Texas':695662,'New York':141297}\n",
    "population_dict = {'California':1.3, 'Texas':0.98, 'New York':1.13}\n",
    "area = pd.Series(area_dict)\n",
    "population = pd.Series(population_dict)\n",
    "print(area)\n",
    "print(population)"
   ]
  },
  {
   "cell_type": "markdown",
   "metadata": {},
   "source": [
    "### `DataFrame`反映列索引到`Series`的映射\n",
    "字典的值，即一组`Series`对象，共享了行索引`（index）`，而这个字典的一组键，则构成了这个`DataFrame`对象的列索引`（columns）`"
   ]
  },
  {
   "cell_type": "code",
   "execution_count": 2,
   "metadata": {},
   "outputs": [
    {
     "name": "stdout",
     "output_type": "stream",
     "text": [
      "              area  population\n",
      "California  423967        1.30\n",
      "Texas       695662        0.98\n",
      "New York    141297        1.13\n"
     ]
    }
   ],
   "source": [
    "states_df = pd.DataFrame({'area': area, 'population': population})\n",
    "print(states_df)"
   ]
  },
  {
   "cell_type": "markdown",
   "metadata": {},
   "source": [
    "获取`DataFrame`对象的行、列索引值"
   ]
  },
  {
   "cell_type": "code",
   "execution_count": 3,
   "metadata": {},
   "outputs": [
    {
     "name": "stdout",
     "output_type": "stream",
     "text": [
      "Index(['California', 'Texas', 'New York'], dtype='object')\n",
      "Index(['area', 'population'], dtype='object')\n"
     ]
    }
   ],
   "source": [
    "print(states_df.index)\n",
    "print(states_df.columns)"
   ]
  },
  {
   "cell_type": "markdown",
   "metadata": {},
   "source": [
    "### 常见创建方式\n",
    "* 通过`Series`对象字典创建\n",
    "* 因为`DataFrame`是特殊的字典，所以可以通过字典列表创建\n",
    "* 因为字典是带有行列索引的二维数组结构，所以可以通过`Numpy`二维数组创建"
   ]
  },
  {
   "cell_type": "code",
   "execution_count": 4,
   "metadata": {},
   "outputs": [
    {
     "name": "stdout",
     "output_type": "stream",
     "text": [
      "     a    b\n",
      "c   13    4\n",
      "d  CHN  USA\n"
     ]
    }
   ],
   "source": [
    "# 通过字典列表创建\n",
    "data = [{'a':13,'b':4},{'a':'CHN','b':'USA'}]\n",
    "df = pd.DataFrame(data,index=['c','d'])\n",
    "print(df)"
   ]
  },
  {
   "cell_type": "code",
   "execution_count": 6,
   "metadata": {},
   "outputs": [
    {
     "name": "stdout",
     "output_type": "stream",
     "text": [
      "        foo       bar\n",
      "a  0.686314  0.899928\n",
      "b  0.941289  0.244236\n",
      "c  0.117099  0.912696\n"
     ]
    }
   ],
   "source": [
    "# 通过Numpy二维数组创建\n",
    "import numpy as np\n",
    "\n",
    "df = pd.DataFrame(np.random.rand(3,2),\n",
    "                  columns=['foo','bar'],\n",
    "                  index=['a','b','c'])\n",
    "print(df)"
   ]
  }
 ],
 "metadata": {
  "kernelspec": {
   "display_name": "Python 3",
   "language": "python",
   "name": "python3"
  },
  "language_info": {
   "codemirror_mode": {
    "name": "ipython",
    "version": 3
   },
   "file_extension": ".py",
   "mimetype": "text/x-python",
   "name": "python",
   "nbconvert_exporter": "python",
   "pygments_lexer": "ipython3",
   "version": "3.7.4"
  }
 },
 "nbformat": 4,
 "nbformat_minor": 2
}
