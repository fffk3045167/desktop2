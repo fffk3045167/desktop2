{
 "cells": [
  {
   "cell_type": "markdown",
   "metadata": {},
   "source": [
    "# `Series`与`DataFrame`对象的数值运算 "
   ]
  },
  {
   "cell_type": "markdown",
   "metadata": {},
   "source": [
    "### 一元运算作用与每一个数据元素"
   ]
  },
  {
   "cell_type": "markdown",
   "metadata": {},
   "source": [
    "* `Series`对象的一元数值运算"
   ]
  },
  {
   "cell_type": "code",
   "execution_count": 1,
   "metadata": {},
   "outputs": [
    {
     "name": "stdout",
     "output_type": "stream",
     "text": [
      "a    2\n",
      "b    4\n",
      "c    6\n",
      "d    8\n",
      "dtype: int64\n",
      "a       7.389056\n",
      "b      54.598150\n",
      "c     403.428793\n",
      "d    2980.957987\n",
      "dtype: float64\n"
     ]
    }
   ],
   "source": [
    "import pandas as pd\n",
    "import numpy as np\n",
    "\n",
    "ser = pd.Series([2,4,6,8],\n",
    "                index=['a','b','c','d'])\n",
    "print(ser)\n",
    "print(np.exp(ser))"
   ]
  },
  {
   "cell_type": "markdown",
   "metadata": {},
   "source": [
    "* `DataFrmae`对象的一元数值运算"
   ]
  },
  {
   "cell_type": "code",
   "execution_count": 2,
   "metadata": {},
   "outputs": [
    {
     "name": "stdout",
     "output_type": "stream",
     "text": [
      "   a  b  c  d\n",
      "0  3  8  5  1\n",
      "1  2  2  8  8\n",
      "2  2  1  5  5\n",
      "          a             b             c             d\n",
      "0  0.707107 -2.449294e-16 -7.071068e-01  7.071068e-01\n",
      "1  1.000000  1.000000e+00 -2.449294e-16 -2.449294e-16\n",
      "2  1.000000  7.071068e-01 -7.071068e-01 -7.071068e-01\n"
     ]
    }
   ],
   "source": [
    "rng = np.random.RandomState(18)\n",
    "df = pd.DataFrame(rng.randint(0,10,(3,4)),\n",
    "                  columns=['a','b','c','d'])\n",
    "print(df)\n",
    "print(np.sin(df * np.pi / 4))"
   ]
  },
  {
   "cell_type": "markdown",
   "metadata": {},
   "source": [
    "### 二元运算"
   ]
  },
  {
   "cell_type": "markdown",
   "metadata": {},
   "source": [
    "在两个`Series`之间或两个`DataFrame`数据对象之间进行二元运算的时候，**会自动在计算过程中对齐两个对象的索引** ，如果一个索引仅在一个对象中出现，那么另一个对象的索引空缺处会进行空值处理"
   ]
  },
  {
   "cell_type": "code",
   "execution_count": 3,
   "metadata": {},
   "outputs": [
    {
     "name": "stdout",
     "output_type": "stream",
     "text": [
      "a     NaN\n",
      "b    10.0\n",
      "c     NaN\n",
      "d    10.0\n",
      "dtype: float64\n"
     ]
    }
   ],
   "source": [
    "ser1 = pd.Series({'a':10,'b':20,'d':40})\n",
    "ser2 = pd.Series({'b':2,'c':3,'d':4})\n",
    "print(ser1 / ser2)"
   ]
  },
  {
   "cell_type": "markdown",
   "metadata": {},
   "source": [
    "**缺失值的处理**\n",
    "\n",
    "设置参与运算的`Series`，其索引缺失位置的数据为`0`"
   ]
  },
  {
   "cell_type": "code",
   "execution_count": 5,
   "metadata": {},
   "outputs": [
    {
     "name": "stdout",
     "output_type": "stream",
     "text": [
      "a    10.0\n",
      "b    22.0\n",
      "c     3.0\n",
      "d    44.0\n",
      "dtype: float64\n"
     ]
    }
   ],
   "source": [
    "print(ser1.add(ser2, fill_value=0))"
   ]
  },
  {
   "cell_type": "markdown",
   "metadata": {},
   "source": [
    "`DataFrame`间的运算，同样会进行索引对齐"
   ]
  },
  {
   "cell_type": "code",
   "execution_count": 6,
   "metadata": {},
   "outputs": [
    {
     "name": "stdout",
     "output_type": "stream",
     "text": [
      "    A  B\n",
      "0   9  4\n",
      "1  15  0\n",
      "   B  C  A\n",
      "0  1  9  0\n",
      "1  1  8  9\n",
      "2  0  8  6\n",
      "      A    B   C\n",
      "0   9.0  5.0 NaN\n",
      "1  24.0  1.0 NaN\n",
      "2   NaN  NaN NaN\n"
     ]
    }
   ],
   "source": [
    "rng = np.random.RandomState(10)\n",
    "A = pd.DataFrame(rng.randint(0, 20, (2, 2)),\n",
    "                 columns=['A', 'B'])\n",
    "B = pd.DataFrame(rng.randint(0, 10, (3, 3)),\n",
    "                 columns=['B', 'C', 'A'])\n",
    "print(A)\n",
    "print(B)\n",
    "print(A + B)"
   ]
  },
  {
   "cell_type": "markdown",
   "metadata": {},
   "source": [
    "用指定的非默认值来替换掉`NaN`，例如使用对象`A`的均值"
   ]
  },
  {
   "cell_type": "code",
   "execution_count": 7,
   "metadata": {},
   "outputs": [
    {
     "name": "stdout",
     "output_type": "stream",
     "text": [
      "      A    B     C\n",
      "0   9.0  5.0  16.0\n",
      "1  24.0  1.0  15.0\n",
      "2  13.0  7.0  15.0\n"
     ]
    }
   ],
   "source": [
    "print(A.add(B, fill_value=A.stack().mean()))"
   ]
  },
  {
   "cell_type": "markdown",
   "metadata": {},
   "source": [
    "这里在求`A`均值的时候用了一个`stack`函数，作用是把二维变量`A`压缩成一个`4`元一维数组"
   ]
  },
  {
   "cell_type": "markdown",
   "metadata": {},
   "source": [
    "**补充一下** ：例如`+，-，*，/`这些属于`python`运算符，如果我们需要加上一些控制用的关键字，如：填充缺失值`fill_value`，那么就需要使用`Pandas`的对应方法`add()，sub()，mul()，div()`"
   ]
  },
  {
   "cell_type": "markdown",
   "metadata": {},
   "source": [
    "\n"
   ]
  },
  {
   "cell_type": "markdown",
   "metadata": {},
   "source": [
    "## `DataFrame`与`Series`之间的运算"
   ]
  },
  {
   "cell_type": "markdown",
   "metadata": {},
   "source": [
    "### 行维度上的运算"
   ]
  },
  {
   "cell_type": "markdown",
   "metadata": {},
   "source": [
    "我们先看一个例子，让`DataFrame`的每一行都减去由自己第一行数据构成的`Series`对象"
   ]
  },
  {
   "cell_type": "code",
   "execution_count": 8,
   "metadata": {},
   "outputs": [
    {
     "name": "stdout",
     "output_type": "stream",
     "text": [
      "   A  B  C  D\n",
      "0  9  4  0  1\n",
      "1  9  0  1  8\n",
      "2  9  0  8  6\n",
      "A    9\n",
      "B    4\n",
      "C    0\n",
      "D    1\n",
      "Name: 0, dtype: int32\n",
      "   A  B  C  D\n",
      "0  0  0  0  0\n",
      "1  0 -4  1  7\n",
      "2  0 -4  8  5\n"
     ]
    }
   ],
   "source": [
    "rng = np.random.RandomState(10)\n",
    "A = pd.DataFrame(rng.randint(0, 10, (3, 4)),\n",
    "                 columns=['A', 'B', 'C', 'D'])\n",
    "\n",
    "print(A)\n",
    "print(A.iloc[0])\n",
    "# A 是DataFrame对象，A.iloc[0]是Sreies对象\n",
    "print(A - A.iloc[0])"
   ]
  },
  {
   "cell_type": "markdown",
   "metadata": {},
   "source": [
    "### 列维度上的运算"
   ]
  },
  {
   "cell_type": "code",
   "execution_count": 9,
   "metadata": {},
   "outputs": [
    {
     "name": "stdout",
     "output_type": "stream",
     "text": [
      "   A  B  C  D\n",
      "0  9  4  0  1\n",
      "1  9  0  1  8\n",
      "2  9  0  8  6\n",
      "0    4\n",
      "1    0\n",
      "2    0\n",
      "Name: B, dtype: int32\n",
      "   A  B  C  D\n",
      "0  5  0 -4 -3\n",
      "1  9  0  1  8\n",
      "2  9  0  8  6\n"
     ]
    }
   ],
   "source": [
    "rng = np.random.RandomState(10)\n",
    "A = pd.DataFrame(rng.randint(0, 10, (3, 4)),\n",
    "                 columns=['A', 'B', 'C', 'D'])\n",
    "\n",
    "print(A)\n",
    "print(A['B'])\n",
    "# 用到了指明列运算方向的参数axis=0，所以也必须使用Pandas的方法sub()\n",
    "print(A.sub(A['B'], axis=0))"
   ]
  },
  {
   "cell_type": "markdown",
   "metadata": {},
   "source": [
    "`DataFrame`与`Series`的运算同样也是要对齐指定方向上的索引，索引不一致处的运算，也会用`NaN`进行空值处理"
   ]
  },
  {
   "cell_type": "code",
   "execution_count": 10,
   "metadata": {},
   "outputs": [
    {
     "name": "stdout",
     "output_type": "stream",
     "text": [
      "   A  B  C  D\n",
      "0  9  4  0  1\n",
      "1  9  0  1  8\n",
      "2  9  0  8  6\n",
      "A    9\n",
      "C    0\n",
      "Name: 0, dtype: int32\n",
      "     A   B    C   D\n",
      "0  0.0 NaN  0.0 NaN\n",
      "1  0.0 NaN  1.0 NaN\n",
      "2  0.0 NaN  8.0 NaN\n"
     ]
    },
    {
     "name": "stderr",
     "output_type": "stream",
     "text": [
      "D:\\Ananconda\\lib\\site-packages\\ipykernel_launcher.py:6: FutureWarning: \n",
      ".ix is deprecated. Please use\n",
      ".loc for label based indexing or\n",
      ".iloc for positional indexing\n",
      "\n",
      "See the documentation here:\n",
      "http://pandas.pydata.org/pandas-docs/stable/user_guide/indexing.html#ix-indexer-is-deprecated\n",
      "  \n",
      "D:\\Ananconda\\lib\\site-packages\\pandas\\core\\indexing.py:961: FutureWarning: \n",
      ".ix is deprecated. Please use\n",
      ".loc for label based indexing or\n",
      ".iloc for positional indexing\n",
      "\n",
      "See the documentation here:\n",
      "http://pandas.pydata.org/pandas-docs/stable/user_guide/indexing.html#ix-indexer-is-deprecated\n",
      "  return getattr(section, self.name)[new_key]\n",
      "D:\\Ananconda\\lib\\site-packages\\ipykernel_launcher.py:7: FutureWarning: \n",
      ".ix is deprecated. Please use\n",
      ".loc for label based indexing or\n",
      ".iloc for positional indexing\n",
      "\n",
      "See the documentation here:\n",
      "http://pandas.pydata.org/pandas-docs/stable/user_guide/indexing.html#ix-indexer-is-deprecated\n",
      "  import sys\n"
     ]
    }
   ],
   "source": [
    "rng = np.random.RandomState(10)\n",
    "A = pd.DataFrame(rng.randint(0, 10, (3, 4)),\n",
    "                 columns=['A', 'B', 'C', 'D'])\n",
    "\n",
    "print(A)\n",
    "print(A.ix[0,['A', 'C']])\n",
    "print(A - A.ix[0,['A', 'C']])"
   ]
  },
  {
   "cell_type": "markdown",
   "metadata": {},
   "source": [
    "# `Pandas`缺失值的处理技巧"
   ]
  },
  {
   "cell_type": "markdown",
   "metadata": {},
   "source": [
    "### 缺失值的表征方式\n",
    "`python`中采用一种`NaN（Not a Number）`标签来表示缺失值，`NaN`本质上是一种浮点数类型"
   ]
  },
  {
   "cell_type": "code",
   "execution_count": 11,
   "metadata": {},
   "outputs": [
    {
     "name": "stdout",
     "output_type": "stream",
     "text": [
      "[ 1. nan  3.  4.]\n",
      "float64\n"
     ]
    }
   ],
   "source": [
    "var = np.array([1, np.nan, 3, 4])\n",
    "print(var)\n",
    "print(var.dtype)"
   ]
  },
  {
   "cell_type": "markdown",
   "metadata": {},
   "source": [
    "### 缺失值的运算处理规则\n",
    "`NaN`缺失值类型有一个重要的特性，就是**任何数与之运算，其结果都是`NaN`**"
   ]
  },
  {
   "cell_type": "code",
   "execution_count": 12,
   "metadata": {},
   "outputs": [
    {
     "name": "stdout",
     "output_type": "stream",
     "text": [
      "nan\n",
      "nan\n",
      "nan\n",
      "nan\n"
     ]
    }
   ],
   "source": [
    "var = np.array([1, 2, np.nan, 4])\n",
    "print(np.nan + 1)\n",
    "print(np.nan * 5)\n",
    "print(var.sum())\n",
    "print(var.max())"
   ]
  },
  {
   "cell_type": "markdown",
   "metadata": {},
   "source": [
    "在`Numpy`中忽略掉`NaN`缺失值进行运算"
   ]
  },
  {
   "cell_type": "code",
   "execution_count": 13,
   "metadata": {},
   "outputs": [
    {
     "name": "stdout",
     "output_type": "stream",
     "text": [
      "7.0\n",
      "4.0\n",
      "1.0\n"
     ]
    }
   ],
   "source": [
    "var = np.array([1, 2, np.nan, 4])\n",
    "print(np.nansum(var))\n",
    "print(np.nanmax(var))\n",
    "print(np.nanmin(var))"
   ]
  },
  {
   "cell_type": "markdown",
   "metadata": {},
   "source": [
    "### 缺失值的处理类型"
   ]
  },
  {
   "cell_type": "markdown",
   "metadata": {},
   "source": [
    "`Pandas`数据类型对缺失值的处理也是类似的，`NaN`表示缺失值时，他的类型是浮点数，如果表示缺失对象时，他的类型是object类型"
   ]
  },
  {
   "cell_type": "markdown",
   "metadata": {},
   "source": [
    "* **浮点缺失型**\n",
    "\n",
    "  将整数型`Series`中的某值设置为缺失型，整个`Series`将强制变成浮点型"
   ]
  },
  {
   "cell_type": "code",
   "execution_count": 14,
   "metadata": {},
   "outputs": [
    {
     "name": "stdout",
     "output_type": "stream",
     "text": [
      "0    1\n",
      "1    2\n",
      "dtype: int32\n",
      "0    NaN\n",
      "1    2.0\n",
      "dtype: float64\n"
     ]
    }
   ],
   "source": [
    "var = pd.Series([1,2],dtype=int)\n",
    "print(var)\n",
    "var[0] = np.nan\n",
    "print(var)"
   ]
  },
  {
   "cell_type": "markdown",
   "metadata": {},
   "source": [
    "* **`object`类型缺失对象**\n",
    "\n",
    "  如果`Series`中的数据类型是字符串，由于字符串是`object`类型，因此将该类型的`Series`中的某个字符串数据设置为缺失型，整个类型仍是`object`类型"
   ]
  },
  {
   "cell_type": "code",
   "execution_count": 15,
   "metadata": {},
   "outputs": [
    {
     "name": "stdout",
     "output_type": "stream",
     "text": [
      "0    aa\n",
      "1    bb\n",
      "dtype: object\n",
      "0    NaN\n",
      "1     bb\n",
      "dtype: object\n"
     ]
    }
   ],
   "source": [
    "var = pd.Series(['aa','bb'])\n",
    "print(var)\n",
    "var[0] = np.nan\n",
    "print(var)"
   ]
  },
  {
   "cell_type": "markdown",
   "metadata": {},
   "source": [
    "### 缺失值的处理方法"
   ]
  },
  {
   "cell_type": "markdown",
   "metadata": {},
   "source": [
    "* **发现缺失值**\n",
    "\n",
    "  我们可以用`isnull()`和`notnull()`两种方法来发现缺失值"
   ]
  },
  {
   "cell_type": "code",
   "execution_count": 17,
   "metadata": {},
   "outputs": [
    {
     "name": "stdout",
     "output_type": "stream",
     "text": [
      "0    False\n",
      "1     True\n",
      "2    False\n",
      "3     True\n",
      "dtype: bool\n",
      "0     True\n",
      "1    False\n",
      "2     True\n",
      "3    False\n",
      "dtype: bool\n"
     ]
    }
   ],
   "source": [
    "var = pd.Series(['aa',np.nan,1,np.nan])\n",
    "print(var.isnull())\n",
    "print(var.notnull())"
   ]
  },
  {
   "cell_type": "markdown",
   "metadata": {},
   "source": [
    "两种方法，返回的都是**布尔型的掩码数据**，这种布尔型掩码数据可以作为一种过滤的工具"
   ]
  },
  {
   "cell_type": "code",
   "execution_count": 18,
   "metadata": {},
   "outputs": [
    {
     "name": "stdout",
     "output_type": "stream",
     "text": [
      "0    aa\n",
      "2     1\n",
      "dtype: object\n"
     ]
    }
   ],
   "source": [
    "print(var[var.notnull()])"
   ]
  },
  {
   "cell_type": "markdown",
   "metadata": {},
   "source": [
    "* **丢弃缺失值**\n",
    "\n",
    "  `Series`数据类型对于缺失值的处理很简单，就是简单的丢弃相应的值"
   ]
  },
  {
   "cell_type": "code",
   "execution_count": 19,
   "metadata": {},
   "outputs": [
    {
     "name": "stdout",
     "output_type": "stream",
     "text": [
      "0    aa\n",
      "2     1\n",
      "dtype: object\n"
     ]
    }
   ],
   "source": [
    "var = pd.Series(['aa',np.nan,1,np.nan])\n",
    "print(var.dropna())"
   ]
  },
  {
   "cell_type": "markdown",
   "metadata": {},
   "source": [
    "DataFrame整行整列丢弃,他无法简单的单独剔除掉一个缺失值，要么剔除缺失值所在的整行，要么剔除掉整列，**默认是剔除行，如果要剔除所在列的话，需要单独设置axis=1的关键字参数**"
   ]
  },
  {
   "cell_type": "code",
   "execution_count": 20,
   "metadata": {},
   "outputs": [
    {
     "name": "stdout",
     "output_type": "stream",
     "text": [
      "     0    1  2\n",
      "0  1.0  NaN  2\n",
      "1  2.0  3.0  5\n",
      "2  NaN  4.0  6\n",
      "     0    1  2\n",
      "1  2.0  3.0  5\n",
      "   2\n",
      "0  2\n",
      "1  5\n",
      "2  6\n"
     ]
    }
   ],
   "source": [
    "df = pd.DataFrame([[1,np.nan,2],\n",
    "                   [2,3,5],\n",
    "                   [np.nan,4,6]])\n",
    "print(df)                       #原始df\n",
    "print(df.dropna())              #丢弃缺失值所在行\n",
    "print(df.dropna(axis=1))        #丢弃缺失值所在列"
   ]
  },
  {
   "cell_type": "markdown",
   "metadata": {},
   "source": [
    "- **`how`参数设置丢弃方式**\n",
    "\n",
    "  在`dropna（）`函数中还有一个非常重要的参数`how`，默认`how`=`any`，表示此行（或列）只要有一个`NaN`值，就要删除所在行（或列）。当`how`=`all`是表示只有当此行（或列）全部都是`NaN`值时，才执行此操作"
   ]
  },
  {
   "cell_type": "code",
   "execution_count": 21,
   "metadata": {},
   "outputs": [
    {
     "name": "stdout",
     "output_type": "stream",
     "text": [
      "     0    1    2    3\n",
      "0  1.0  NaN  2.0  4.0\n",
      "1  2.0  3.0  5.0  3.0\n",
      "2  NaN  NaN  NaN  NaN\n",
      "     0    1    2    3\n",
      "1  2.0  3.0  5.0  3.0\n",
      "     0    1    2    3\n",
      "0  1.0  NaN  2.0  4.0\n",
      "1  2.0  3.0  5.0  3.0\n"
     ]
    }
   ],
   "source": [
    "df = pd.DataFrame([[1,np.nan,2,4],\n",
    "                   [2,3,5,3],\n",
    "                   [np.nan,np.nan,np.nan,np.nan]])\n",
    "print(df)\n",
    "print(df.dropna(how='any'))\n",
    "print(df.dropna(how='all'))"
   ]
  },
  {
   "cell_type": "markdown",
   "metadata": {},
   "source": [
    "* **`DataFrame`阈值控制丢弃**\n",
    "\n",
    "  还有个更精细的`thresh`参数控制，他表示留下此行（或列）时，非缺失值最少需要有的个数"
   ]
  },
  {
   "cell_type": "code",
   "execution_count": 22,
   "metadata": {},
   "outputs": [
    {
     "name": "stdout",
     "output_type": "stream",
     "text": [
      "     0    1    2    3\n",
      "0  1.0  NaN  2.0  4.0\n",
      "1  2.0  3.0  5.0  3.0\n",
      "2  NaN  NaN  NaN  NaN\n",
      "     0    1    2    3\n",
      "0  1.0  NaN  2.0  4.0\n",
      "1  2.0  3.0  5.0  3.0\n"
     ]
    }
   ],
   "source": [
    "print(df)\n",
    "print(df.dropna(thresh=3))"
   ]
  },
  {
   "cell_type": "markdown",
   "metadata": {},
   "source": [
    "### 填充缺失值\n",
    "* **指定值填充**"
   ]
  },
  {
   "cell_type": "code",
   "execution_count": 23,
   "metadata": {},
   "outputs": [
    {
     "name": "stdout",
     "output_type": "stream",
     "text": [
      "      0    1     2     3\n",
      "0  11.0  0.0  22.0  44.0\n",
      "1  22.0  0.0   0.0  33.0\n",
      "2   0.0  0.0   0.0   0.0\n"
     ]
    }
   ],
   "source": [
    "df = pd.DataFrame([[11,np.nan,22,44],\n",
    "                   [22,np.nan,np.nan,33],\n",
    "                   [np.nan,np.nan,np.nan,np.nan]])\n",
    "print(df.fillna(0))"
   ]
  },
  {
   "cell_type": "markdown",
   "metadata": {},
   "source": [
    "* **相邻值填充**\n",
    "\n",
    "  用相邻的值进行填充，这在时间序列分析中相当常见，可以用前面相邻的值向后填充，也可以用后面相邻的值向前填充"
   ]
  },
  {
   "cell_type": "code",
   "execution_count": 24,
   "metadata": {},
   "outputs": [
    {
     "name": "stdout",
     "output_type": "stream",
     "text": [
      "a    1.0\n",
      "b    NaN\n",
      "c    2.0\n",
      "d    NaN\n",
      "e    3.0\n",
      "dtype: float64\n",
      "a    1.0\n",
      "b    1.0\n",
      "c    2.0\n",
      "d    2.0\n",
      "e    3.0\n",
      "dtype: float64\n",
      "a    1.0\n",
      "b    2.0\n",
      "c    2.0\n",
      "d    3.0\n",
      "e    3.0\n",
      "dtype: float64\n"
     ]
    }
   ],
   "source": [
    "data = pd.Series([1,np.nan,2,np.nan,3],index=list('abcde'))\n",
    "print(data)\n",
    "print(data.fillna(method='ffill'))\n",
    "print(data.fillna(method='bfill'))"
   ]
  },
  {
   "cell_type": "markdown",
   "metadata": {},
   "source": [
    "`DataFrame`数据类型也是同理，当然他还可以指定填充具体是沿着那个方向，下面的例子，我们指定沿着纵轴的方向，从前往后进行填充"
   ]
  },
  {
   "cell_type": "code",
   "execution_count": 25,
   "metadata": {},
   "outputs": [
    {
     "name": "stdout",
     "output_type": "stream",
     "text": [
      "     0    1  2    3\n",
      "0  1.0  NaN  2  4.0\n",
      "1  2.0  3.0  5  3.0\n",
      "2  NaN  5.0  4  NaN\n",
      "     0    1    2    3\n",
      "0  1.0  1.0  2.0  4.0\n",
      "1  2.0  3.0  5.0  3.0\n",
      "2  NaN  5.0  4.0  4.0\n"
     ]
    }
   ],
   "source": [
    "df = pd.DataFrame([[1,np.nan,2,4],\n",
    "                   [2,3,5,3],\n",
    "                   [np.nan,5,4,np.nan]])\n",
    "print(df)\n",
    "print(df.fillna(method='ffill', axis=1))"
   ]
  }
 ],
 "metadata": {
  "kernelspec": {
   "display_name": "Python 3",
   "language": "python",
   "name": "python3"
  },
  "language_info": {
   "codemirror_mode": {
    "name": "ipython",
    "version": 3
   },
   "file_extension": ".py",
   "mimetype": "text/x-python",
   "name": "python",
   "nbconvert_exporter": "python",
   "pygments_lexer": "ipython3",
   "version": "3.7.4"
  }
 },
 "nbformat": 4,
 "nbformat_minor": 2
}
