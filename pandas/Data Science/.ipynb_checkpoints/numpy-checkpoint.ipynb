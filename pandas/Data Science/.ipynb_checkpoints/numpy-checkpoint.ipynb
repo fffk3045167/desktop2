{
 "cells": [
  {
   "cell_type": "markdown",
   "metadata": {},
   "source": [
    "## `Numpy`函数包使用"
   ]
  },
  {
   "cell_type": "markdown",
   "metadata": {},
   "source": [
    "使用`Python`的`list`对象来创建一个一维的`ndarray`对象"
   ]
  },
  {
   "cell_type": "code",
   "execution_count": 1,
   "metadata": {},
   "outputs": [
    {
     "name": "stdout",
     "output_type": "stream",
     "text": [
      "[ 1.    2.32  5.   14.  ]\n",
      "<class 'numpy.ndarray'>\n"
     ]
    }
   ],
   "source": [
    "import numpy as np\n",
    "data = [1, 2.32, 5, 14]\n",
    "arr = np.array(data)\n",
    "\n",
    "print(arr)\n",
    "print(type(arr))"
   ]
  },
  {
   "cell_type": "code",
   "execution_count": 3,
   "metadata": {},
   "outputs": [
    {
     "name": "stdout",
     "output_type": "stream",
     "text": [
      "[[1.  2.  3.  4. ]\n",
      " [5.  6.  7.2 8. ]]\n",
      "2\n",
      "(2, 4)\n",
      "float64\n",
      "<class 'numpy.ndarray'>\n"
     ]
    }
   ],
   "source": [
    "data = [[1, 2, 3, 4],[5, 6, 7.2, 8]]\n",
    "\n",
    "arr = np.array(data)\n",
    "\n",
    "print(arr)\n",
    "print(arr.ndim)\n",
    "print(arr.shape)\n",
    "print(arr.dtype)\n",
    "print(type(arr))"
   ]
  },
  {
   "cell_type": "markdown",
   "metadata": {},
   "source": [
    "其中`ndim`是数组的维数：\n",
    "`data.ndim = len(data.shape)`"
   ]
  },
  {
   "cell_type": "markdown",
   "metadata": {},
   "source": [
    "初始化时指定数据类型，或是对已有的`ndarray`数组进行数据类型的显示转换"
   ]
  },
  {
   "cell_type": "code",
   "execution_count": 4,
   "metadata": {},
   "outputs": [
    {
     "name": "stdout",
     "output_type": "stream",
     "text": [
      "[1. 2. 3.]\n",
      "[2 4 5]\n",
      "[2. 4. 5.]\n"
     ]
    }
   ],
   "source": [
    "arr1 = np.array([1, 2, 3], dtype=np.float64)\n",
    "arr2 = np.array([2, 4, 5], dtype=np.int32)\n",
    "arr3 = arr2.astype(np.float64)\n",
    "\n",
    "print(arr1)\n",
    "print(arr2)\n",
    "print(arr3)"
   ]
  },
  {
   "cell_type": "markdown",
   "metadata": {},
   "source": [
    "**注意:** 调用`astype`会创建一个新的数组，即原始数据的一个深拷贝。"
   ]
  },
  {
   "cell_type": "markdown",
   "metadata": {},
   "source": [
    "**维度转换**"
   ]
  },
  {
   "cell_type": "code",
   "execution_count": 6,
   "metadata": {},
   "outputs": [
    {
     "name": "stdout",
     "output_type": "stream",
     "text": [
      "[[ 0  1  2  3]\n",
      " [ 4  5  6  7]\n",
      " [ 8  9 10 11]\n",
      " [12 13 14 15]\n",
      " [16 17 18 19]\n",
      " [20 21 22 23]]\n"
     ]
    }
   ],
   "source": [
    "a = np.arange(24).reshape((6,4))\n",
    "print(a)"
   ]
  },
  {
   "cell_type": "code",
   "execution_count": 8,
   "metadata": {},
   "outputs": [
    {
     "name": "stdout",
     "output_type": "stream",
     "text": [
      "[ 0  1  2  3  4  5  6  7  8  9 10 11 12 13 14 15 16 17 18 19 20 21 22 23]\n"
     ]
    }
   ],
   "source": [
    "# 将其展平，转换为一维数组\n",
    "print(a.flatten())"
   ]
  },
  {
   "cell_type": "code",
   "execution_count": 9,
   "metadata": {},
   "outputs": [
    {
     "name": "stdout",
     "output_type": "stream",
     "text": [
      "[[ 0  1  2  3  4  5  6  7]\n",
      " [ 8  9 10 11 12 13 14 15]\n",
      " [16 17 18 19 20 21 22 23]]\n"
     ]
    }
   ],
   "source": [
    "# 转换为 3x8 的数组\n",
    "print(a.reshape((3, 8)))"
   ]
  },
  {
   "cell_type": "code",
   "execution_count": 11,
   "metadata": {},
   "outputs": [
    {
     "name": "stdout",
     "output_type": "stream",
     "text": [
      "[[ 0  1  2  3]\n",
      " [ 4  5  6  7]\n",
      " [ 8  9 10 11]\n",
      " [12 13 14 15]\n",
      " [16 17 18 19]\n",
      " [20 21 22 23]]\n",
      "[[ 0  4  8 12 16 20]\n",
      " [ 1  5  9 13 17 21]\n",
      " [ 2  6 10 14 18 22]\n",
      " [ 3  7 11 15 19 23]]\n"
     ]
    }
   ],
   "source": [
    "# 矩阵转置操作\n",
    "print(a)\n",
    "print(a.transpose())"
   ]
  },
  {
   "cell_type": "markdown",
   "metadata": {},
   "source": [
    "**高维数组索引**"
   ]
  },
  {
   "cell_type": "code",
   "execution_count": 12,
   "metadata": {},
   "outputs": [
    {
     "name": "stdout",
     "output_type": "stream",
     "text": [
      "[[[ 1  2  3]\n",
      "  [ 4  5  6]]\n",
      "\n",
      " [[ 7  8  9]\n",
      "  [10 11 12]]]\n",
      "[[1 2 3]\n",
      " [4 5 6]]\n",
      "[7 8 9]\n",
      "2\n"
     ]
    }
   ],
   "source": [
    "arr3d = np.array([[[1,2,3],[4,5,6]],[[7,8,9],[10,11,12]]])\n",
    "print(arr3d)\n",
    "print(arr3d[0])\n",
    "print(arr3d[1][0])\n",
    "print(arr3d[0][0][1])"
   ]
  },
  {
   "cell_type": "markdown",
   "metadata": {},
   "source": [
    "**高维数组切片**"
   ]
  },
  {
   "cell_type": "code",
   "execution_count": 13,
   "metadata": {},
   "outputs": [
    {
     "name": "stdout",
     "output_type": "stream",
     "text": [
      "[[1 2 3]\n",
      " [4 5 6]\n",
      " [7 8 9]]\n",
      "[[2 3]\n",
      " [5 6]]\n"
     ]
    }
   ],
   "source": [
    "arr2d = np.array([[1,2,3],[4,5,6],[7,8,9]])\n",
    "print(arr2d)\n",
    "print(arr2d[:2, 1:])"
   ]
  },
  {
   "cell_type": "markdown",
   "metadata": {},
   "source": [
    "*选取指定列*"
   ]
  },
  {
   "cell_type": "code",
   "execution_count": 15,
   "metadata": {},
   "outputs": [
    {
     "name": "stdout",
     "output_type": "stream",
     "text": [
      "[[ 0  1  2  3]\n",
      " [ 4  5  6  7]\n",
      " [ 8  9 10 11]\n",
      " [12 13 14 15]\n",
      " [16 17 18 19]\n",
      " [20 21 22 23]\n",
      " [24 25 26 27]\n",
      " [28 29 30 31]]\n",
      "[ 4 23 29 10]\n"
     ]
    }
   ],
   "source": [
    "arr = np.arange(32).reshape(8,4)\n",
    "print(arr)\n",
    "print(arr[[1,5,7,2], [0,3,1,2]])"
   ]
  },
  {
   "cell_type": "markdown",
   "metadata": {},
   "source": [
    "## 数组的元素级别运算"
   ]
  },
  {
   "cell_type": "code",
   "execution_count": 16,
   "metadata": {},
   "outputs": [
    {
     "name": "stdout",
     "output_type": "stream",
     "text": [
      "[1.         1.73205081 2.23606798 2.         2.23606798]\n",
      "[16 36  1  9 16]\n",
      "[ 4 18  5 12 20]\n",
      "[-3 -3  4  1  1]\n"
     ]
    }
   ],
   "source": [
    "arr1 = np.array([1,3,5,4,5]) \n",
    "arr2 = np.array([4,6,1,3,4])  \n",
    "print(np.sqrt(arr1)) \n",
    "print(np.square(arr2)) \n",
    "print(np.multiply(arr1,arr2)) \n",
    "print(np.subtract(arr1,arr2))  "
   ]
  },
  {
   "cell_type": "markdown",
   "metadata": {},
   "source": [
    "## 条件逻辑的数组运算:`np.where`"
   ]
  },
  {
   "cell_type": "code",
   "execution_count": 17,
   "metadata": {},
   "outputs": [
    {
     "name": "stdout",
     "output_type": "stream",
     "text": [
      "[[-2.53447497 -1.27498284 -0.5701695  -0.89540426]\n",
      " [-1.13578093 -1.14674653 -0.96796503 -0.10439865]\n",
      " [ 1.30379635  1.37969483  2.30692316 -0.38518423]\n",
      " [ 0.34855281 -0.47228758  1.23899577 -0.43812587]]\n",
      "[[-2 -2 -2 -2]\n",
      " [-2 -2 -2 -2]\n",
      " [ 2  2  2 -2]\n",
      " [ 2 -2  2 -2]]\n",
      "[[-2.53447497 -1.27498284 -0.5701695  -0.89540426]\n",
      " [-1.13578093 -1.14674653 -0.96796503 -0.10439865]\n",
      " [ 2.          2.          2.         -0.38518423]\n",
      " [ 2.         -0.47228758  2.         -0.43812587]]\n"
     ]
    }
   ],
   "source": [
    "arr = np.random.randn(4,4) \n",
    "print(arr) \n",
    "print(np.where(arr>0,2,-2)) \n",
    "print(np.where(arr>0,2,arr)) "
   ]
  },
  {
   "cell_type": "markdown",
   "metadata": {},
   "source": [
    "## 各轴向上的统计运算\n",
    "对一个数组内的值进行**求和、均值、方差、标准差、累积、累和以及最值求解**\n",
    "\n",
    "在求均值时，如果不指定参数，则是求取全部值的平均值，如果指定关键字参数`axis=0`，则是沿着纵向求均值，`axis=1`，沿着横向求均值"
   ]
  },
  {
   "cell_type": "code",
   "execution_count": 22,
   "metadata": {},
   "outputs": [
    {
     "name": "stdout",
     "output_type": "stream",
     "text": [
      "4.0\n",
      "[3. 4. 5.]\n",
      "[1. 4. 7.]\n",
      "36\n",
      "2.581988897471611\n",
      "6.666666666666667\n",
      "0 8\n",
      "0 8\n"
     ]
    }
   ],
   "source": [
    "arr = np.array([[0,1,2],[3,4,5],[6,7,8]]) \n",
    "# 求均值\n",
    "print(arr.mean()) \n",
    "print(arr.mean(axis=0)) \n",
    "print(arr.mean(axis=1))\n",
    "# 求和\n",
    "print(arr.sum())\n",
    "# 标准差\n",
    "print(arr.std())\n",
    "# 方差\n",
    "print(arr.var())\n",
    "# 最值\n",
    "print(arr.min(),arr.max())\n",
    "# 最值索引\n",
    "print(arr.argmin(), arr.argmax())"
   ]
  },
  {
   "cell_type": "code",
   "execution_count": 25,
   "metadata": {},
   "outputs": [
    {
     "name": "stdout",
     "output_type": "stream",
     "text": [
      "[[-0.65829317  0.49440016  0.47533225]\n",
      " [-0.04672572  0.32423089 -2.09024731]\n",
      " [ 0.25426832 -0.64743349  0.09438057]\n",
      " [-1.22909897 -0.63320771  0.49619165]\n",
      " [ 0.27805611 -2.67426284 -0.77308078]]\n",
      "[[-0.65829317  0.47533225  0.49440016]\n",
      " [-2.09024731 -0.04672572  0.32423089]\n",
      " [-0.64743349  0.09438057  0.25426832]\n",
      " [-1.22909897 -0.63320771  0.49619165]\n",
      " [-2.67426284 -0.77308078  0.27805611]]\n"
     ]
    }
   ],
   "source": [
    "arr1 = np.random.randn(5,3)\n",
    "print(arr1)\n",
    "print(arr1.sort())\n",
    "arr1.sort()\n",
    "print(arr1)\n",
    "#arr2.sort(axis=1)\n",
    "#arr3.sort(axis=0)\n",
    "\n",
    "#print(arr2)\n",
    "#print(arr3)"
   ]
  }
 ],
 "metadata": {
  "kernelspec": {
   "display_name": "Python 3",
   "language": "python",
   "name": "python3"
  },
  "language_info": {
   "codemirror_mode": {
    "name": "ipython",
    "version": 3
   },
   "file_extension": ".py",
   "mimetype": "text/x-python",
   "name": "python",
   "nbconvert_exporter": "python",
   "pygments_lexer": "ipython3",
   "version": "3.7.4"
  }
 },
 "nbformat": 4,
 "nbformat_minor": 2
}
