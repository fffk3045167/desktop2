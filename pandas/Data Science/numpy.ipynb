{
 "cells": [
  {
   "cell_type": "markdown",
   "metadata": {},
   "source": [
    "## `Numpy`函数包使用"
   ]
  },
  {
   "cell_type": "markdown",
   "metadata": {},
   "source": [
    "使用`Python`的`list`对象来创建一个一维的`ndarray`对象"
   ]
  },
  {
   "cell_type": "code",
   "execution_count": 1,
   "metadata": {},
   "outputs": [
    {
     "name": "stdout",
     "output_type": "stream",
     "text": [
      "[ 1.    2.32  5.   14.  ]\n",
      "<class 'numpy.ndarray'>\n"
     ]
    }
   ],
   "source": [
    "import numpy as np\n",
    "data = [1, 2.32, 5, 14]\n",
    "arr = np.array(data)\n",
    "\n",
    "print(arr)\n",
    "print(type(arr))"
   ]
  },
  {
   "cell_type": "code",
   "execution_count": 3,
   "metadata": {},
   "outputs": [
    {
     "name": "stdout",
     "output_type": "stream",
     "text": [
      "[[1.  2.  3.  4. ]\n",
      " [5.  6.  7.2 8. ]]\n",
      "2\n",
      "(2, 4)\n",
      "float64\n",
      "<class 'numpy.ndarray'>\n"
     ]
    }
   ],
   "source": [
    "data = [[1, 2, 3, 4],[5, 6, 7.2, 8]]\n",
    "\n",
    "arr = np.array(data)\n",
    "\n",
    "print(arr)\n",
    "print(arr.ndim)\n",
    "print(arr.shape)\n",
    "print(arr.dtype)\n",
    "print(type(arr))"
   ]
  },
  {
   "cell_type": "markdown",
   "metadata": {},
   "source": [
    "其中`ndim`是数组的维数：\n",
    "`data.ndim = len(data.shape)`"
   ]
  },
  {
   "cell_type": "markdown",
   "metadata": {},
   "source": [
    "初始化时指定数据类型，或是对已有的`ndarray`数组进行数据类型的显示转换"
   ]
  },
  {
   "cell_type": "code",
   "execution_count": 4,
   "metadata": {},
   "outputs": [
    {
     "name": "stdout",
     "output_type": "stream",
     "text": [
      "[1. 2. 3.]\n",
      "[2 4 5]\n",
      "[2. 4. 5.]\n"
     ]
    }
   ],
   "source": [
    "arr1 = np.array([1, 2, 3], dtype=np.float64)\n",
    "arr2 = np.array([2, 4, 5], dtype=np.int32)\n",
    "arr3 = arr2.astype(np.float64)\n",
    "\n",
    "print(arr1)\n",
    "print(arr2)\n",
    "print(arr3)"
   ]
  },
  {
   "cell_type": "markdown",
   "metadata": {},
   "source": [
    "**注意:** 调用`astype`会创建一个新的数组，即原始数据的一个深拷贝。"
   ]
  },
  {
   "cell_type": "markdown",
   "metadata": {},
   "source": [
    "**维度转换**"
   ]
  },
  {
   "cell_type": "code",
   "execution_count": 6,
   "metadata": {},
   "outputs": [
    {
     "name": "stdout",
     "output_type": "stream",
     "text": [
      "[[ 0  1  2  3]\n",
      " [ 4  5  6  7]\n",
      " [ 8  9 10 11]\n",
      " [12 13 14 15]\n",
      " [16 17 18 19]\n",
      " [20 21 22 23]]\n"
     ]
    }
   ],
   "source": [
    "a = np.arange(24).reshape((6,4))\n",
    "print(a)"
   ]
  },
  {
   "cell_type": "code",
   "execution_count": 8,
   "metadata": {},
   "outputs": [
    {
     "name": "stdout",
     "output_type": "stream",
     "text": [
      "[ 0  1  2  3  4  5  6  7  8  9 10 11 12 13 14 15 16 17 18 19 20 21 22 23]\n"
     ]
    }
   ],
   "source": [
    "# 将其展平，转换为一维数组\n",
    "print(a.flatten())"
   ]
  },
  {
   "cell_type": "code",
   "execution_count": 9,
   "metadata": {},
   "outputs": [
    {
     "name": "stdout",
     "output_type": "stream",
     "text": [
      "[[ 0  1  2  3  4  5  6  7]\n",
      " [ 8  9 10 11 12 13 14 15]\n",
      " [16 17 18 19 20 21 22 23]]\n"
     ]
    }
   ],
   "source": [
    "# 转换为 3x8 的数组\n",
    "print(a.reshape((3, 8)))"
   ]
  },
  {
   "cell_type": "code",
   "execution_count": 11,
   "metadata": {},
   "outputs": [
    {
     "name": "stdout",
     "output_type": "stream",
     "text": [
      "[[ 0  1  2  3]\n",
      " [ 4  5  6  7]\n",
      " [ 8  9 10 11]\n",
      " [12 13 14 15]\n",
      " [16 17 18 19]\n",
      " [20 21 22 23]]\n",
      "[[ 0  4  8 12 16 20]\n",
      " [ 1  5  9 13 17 21]\n",
      " [ 2  6 10 14 18 22]\n",
      " [ 3  7 11 15 19 23]]\n"
     ]
    }
   ],
   "source": [
    "# 矩阵转置操作\n",
    "print(a)\n",
    "print(a.transpose())"
   ]
  },
  {
   "cell_type": "markdown",
   "metadata": {},
   "source": [
    "**高维数组索引**"
   ]
  },
  {
   "cell_type": "code",
   "execution_count": 12,
   "metadata": {},
   "outputs": [
    {
     "name": "stdout",
     "output_type": "stream",
     "text": [
      "[[[ 1  2  3]\n",
      "  [ 4  5  6]]\n",
      "\n",
      " [[ 7  8  9]\n",
      "  [10 11 12]]]\n",
      "[[1 2 3]\n",
      " [4 5 6]]\n",
      "[7 8 9]\n",
      "2\n"
     ]
    }
   ],
   "source": [
    "arr3d = np.array([[[1,2,3],[4,5,6]],[[7,8,9],[10,11,12]]])\n",
    "print(arr3d)\n",
    "print(arr3d[0])\n",
    "print(arr3d[1][0])\n",
    "print(arr3d[0][0][1])"
   ]
  },
  {
   "cell_type": "markdown",
   "metadata": {},
   "source": [
    "**高维数组切片**"
   ]
  },
  {
   "cell_type": "code",
   "execution_count": 13,
   "metadata": {},
   "outputs": [
    {
     "name": "stdout",
     "output_type": "stream",
     "text": [
      "[[1 2 3]\n",
      " [4 5 6]\n",
      " [7 8 9]]\n",
      "[[2 3]\n",
      " [5 6]]\n"
     ]
    }
   ],
   "source": [
    "arr2d = np.array([[1,2,3],[4,5,6],[7,8,9]])\n",
    "print(arr2d)\n",
    "print(arr2d[:2, 1:])"
   ]
  },
  {
   "cell_type": "markdown",
   "metadata": {},
   "source": [
    "*选取指定列*"
   ]
  },
  {
   "cell_type": "code",
   "execution_count": 15,
   "metadata": {},
   "outputs": [
    {
     "name": "stdout",
     "output_type": "stream",
     "text": [
      "[[ 0  1  2  3]\n",
      " [ 4  5  6  7]\n",
      " [ 8  9 10 11]\n",
      " [12 13 14 15]\n",
      " [16 17 18 19]\n",
      " [20 21 22 23]\n",
      " [24 25 26 27]\n",
      " [28 29 30 31]]\n",
      "[ 4 23 29 10]\n"
     ]
    }
   ],
   "source": [
    "arr = np.arange(32).reshape(8,4)\n",
    "print(arr)\n",
    "print(arr[[1,5,7,2], [0,3,1,2]])"
   ]
  },
  {
   "cell_type": "markdown",
   "metadata": {},
   "source": [
    "## 数组的元素级别运算"
   ]
  },
  {
   "cell_type": "code",
   "execution_count": 16,
   "metadata": {},
   "outputs": [
    {
     "name": "stdout",
     "output_type": "stream",
     "text": [
      "[1.         1.73205081 2.23606798 2.         2.23606798]\n",
      "[16 36  1  9 16]\n",
      "[ 4 18  5 12 20]\n",
      "[-3 -3  4  1  1]\n"
     ]
    }
   ],
   "source": [
    "arr1 = np.array([1,3,5,4,5]) \n",
    "arr2 = np.array([4,6,1,3,4])  \n",
    "print(np.sqrt(arr1)) \n",
    "print(np.square(arr2)) \n",
    "print(np.multiply(arr1,arr2)) \n",
    "print(np.subtract(arr1,arr2))  "
   ]
  },
  {
   "cell_type": "markdown",
   "metadata": {},
   "source": [
    "## 条件逻辑的数组运算:`np.where`"
   ]
  },
  {
   "cell_type": "code",
   "execution_count": 17,
   "metadata": {},
   "outputs": [
    {
     "name": "stdout",
     "output_type": "stream",
     "text": [
      "[[-2.53447497 -1.27498284 -0.5701695  -0.89540426]\n",
      " [-1.13578093 -1.14674653 -0.96796503 -0.10439865]\n",
      " [ 1.30379635  1.37969483  2.30692316 -0.38518423]\n",
      " [ 0.34855281 -0.47228758  1.23899577 -0.43812587]]\n",
      "[[-2 -2 -2 -2]\n",
      " [-2 -2 -2 -2]\n",
      " [ 2  2  2 -2]\n",
      " [ 2 -2  2 -2]]\n",
      "[[-2.53447497 -1.27498284 -0.5701695  -0.89540426]\n",
      " [-1.13578093 -1.14674653 -0.96796503 -0.10439865]\n",
      " [ 2.          2.          2.         -0.38518423]\n",
      " [ 2.         -0.47228758  2.         -0.43812587]]\n"
     ]
    }
   ],
   "source": [
    "arr = np.random.randn(4,4) \n",
    "print(arr) \n",
    "print(np.where(arr>0,2,-2)) \n",
    "print(np.where(arr>0,2,arr)) "
   ]
  },
  {
   "cell_type": "markdown",
   "metadata": {},
   "source": [
    "## 各轴向上的统计运算\n",
    "对一个数组内的值进行**求和、均值、方差、标准差、累积、累和以及最值求解**\n",
    "\n",
    "在求均值时，如果不指定参数，则是求取全部值的平均值，如果指定关键字参数`axis=0`，则是沿着纵向求均值，`axis=1`，沿着横向求均值"
   ]
  },
  {
   "cell_type": "code",
   "execution_count": 22,
   "metadata": {},
   "outputs": [
    {
     "name": "stdout",
     "output_type": "stream",
     "text": [
      "4.0\n",
      "[3. 4. 5.]\n",
      "[1. 4. 7.]\n",
      "36\n",
      "2.581988897471611\n",
      "6.666666666666667\n",
      "0 8\n",
      "0 8\n"
     ]
    }
   ],
   "source": [
    "arr = np.array([[0,1,2],[3,4,5],[6,7,8]]) \n",
    "# 求均值\n",
    "print(arr.mean()) \n",
    "print(arr.mean(axis=0)) \n",
    "print(arr.mean(axis=1))\n",
    "# 求和\n",
    "print(arr.sum())\n",
    "# 标准差\n",
    "print(arr.std())\n",
    "# 方差\n",
    "print(arr.var())\n",
    "# 最值\n",
    "print(arr.min(),arr.max())\n",
    "# 最值索引\n",
    "print(arr.argmin(), arr.argmax())"
   ]
  },
  {
   "cell_type": "markdown",
   "metadata": {},
   "source": [
    "多维数组就地排序，沿着某一个轴向进行排序"
   ]
  },
  {
   "cell_type": "code",
   "execution_count": 29,
   "metadata": {},
   "outputs": [
    {
     "name": "stdout",
     "output_type": "stream",
     "text": [
      "[[2 3 1]\n",
      " [8 6 7]\n",
      " [4 9 3]]\n",
      "[[2 3 1]\n",
      " [4 6 3]\n",
      " [8 9 7]]\n",
      "[[1 2 3]\n",
      " [6 7 8]\n",
      " [3 4 9]]\n"
     ]
    }
   ],
   "source": [
    "arr1 = np.array([[2,3,1],[8,6,7],[4,9,3]])\n",
    "arr2 = np.array([[2,3,1],[8,6,7],[4,9,3]])\n",
    "print(arr1)\n",
    "arr1.sort(axis=0)\n",
    "print(arr1)\n",
    "\n",
    "arr2.sort(axis=1)\n",
    "print(arr2)"
   ]
  },
  {
   "cell_type": "markdown",
   "metadata": {},
   "source": [
    "### CSV数据的读取"
   ]
  },
  {
   "cell_type": "code",
   "execution_count": 31,
   "metadata": {},
   "outputs": [
    {
     "name": "stdout",
     "output_type": "stream",
     "text": [
      "[178.02 178.65 178.44 179.97 181.72 179.98 176.94 175.03 176.67 176.82\n",
      " 176.21 175.   178.12 178.39 178.97 175.5  172.5  171.07 171.85 172.43\n",
      " 172.99 167.37 164.34 162.71 156.41 155.15 159.54 163.03 156.49 160.5\n",
      " 167.78 167.43 166.97 167.96 171.51 171.11 174.22 177.04 177.   178.46\n",
      " 179.26 179.1  176.19 177.09 175.28 174.29 174.33 174.35 175.   173.03\n",
      " 172.23 172.26 169.23 171.08 170.6  170.57 175.01 175.01 174.35 174.54\n",
      " 176.42]\n",
      "[38313330. 22676520. 29334630. 31464170. 32191070. 32130360. 24518850.\n",
      " 31686450. 23273160. 27825140. 38426060. 48706170. 37568080. 38885510.\n",
      " 37353670. 33772050. 30953760. 37378070. 33690660. 40113790. 50908540.\n",
      " 40382890. 32483310. 60774900. 70583530. 54145930. 51467440. 68171940.\n",
      " 72215320. 85957050. 44453230. 32234520. 45635470. 50565420. 39075250.\n",
      " 41438280. 51368540. 32395870. 27052000. 31306390. 31087330. 34260230.\n",
      " 29512410. 25302200. 18653380. 23751690. 21532200. 20523870. 23589930.\n",
      " 22342650. 29461040. 25400540. 25938760. 16412270. 21477380. 33113340.\n",
      " 16339690. 20848660. 23451420. 27393660. 29385650.]\n"
     ]
    }
   ],
   "source": [
    "c, v = np.loadtxt('datafile.csv', delimiter=',', usecols=(1, 2), unpack=True) \n",
    "print(c) \n",
    "print(v)"
   ]
  },
  {
   "cell_type": "code",
   "execution_count": 33,
   "metadata": {},
   "outputs": [
    {
     "name": "stdout",
     "output_type": "stream",
     "text": [
      "172.61491803278687\n",
      "181.72 155.15\n",
      "26.569999999999993\n",
      "174.35\n",
      "37.598552862133815\n",
      "37.598552862133815\n"
     ]
    }
   ],
   "source": [
    "# 算术平均值\n",
    "mean_c = np.mean(c)\n",
    "print(mean_c)\n",
    "# 最值，最值之差\n",
    "print(np.max(c), np.min(c))\n",
    "print(np.ptp(c))\n",
    "# 中位数\n",
    "print(np.median(c))\n",
    "# 方差\n",
    "print(np.var(c))\n",
    "# 根据方差定义求方差（方差指的是各个数据与所有数据算数平均数的离差平方和的均值）\n",
    "print(np.mean((c - c.mean())**2))"
   ]
  },
  {
   "cell_type": "code",
   "execution_count": null,
   "metadata": {},
   "outputs": [],
   "source": []
  }
 ],
 "metadata": {
  "kernelspec": {
   "display_name": "Python 3",
   "language": "python",
   "name": "python3"
  },
  "language_info": {
   "codemirror_mode": {
    "name": "ipython",
    "version": 3
   },
   "file_extension": ".py",
   "mimetype": "text/x-python",
   "name": "python",
   "nbconvert_exporter": "python",
   "pygments_lexer": "ipython3",
   "version": "3.7.4"
  }
 },
 "nbformat": 4,
 "nbformat_minor": 2
}
