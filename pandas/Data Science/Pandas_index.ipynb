{
 "cells": [
  {
   "cell_type": "markdown",
   "metadata": {},
   "source": [
    "# `Pandas`多级索引的创建方法"
   ]
  },
  {
   "cell_type": "markdown",
   "metadata": {},
   "source": [
    "### 多级索引的`Series`类型"
   ]
  },
  {
   "cell_type": "markdown",
   "metadata": {},
   "source": [
    "`Pandas`提供了一个`MultiIndex`类型，专门用来处理这种多级索引的问题"
   ]
  },
  {
   "cell_type": "code",
   "execution_count": 2,
   "metadata": {},
   "outputs": [
    {
     "name": "stdout",
     "output_type": "stream",
     "text": [
      "MultiIndex([('California', 2008),\n",
      "            ('California', 2018),\n",
      "            (  'New York', 2008),\n",
      "            (  'New York', 2018),\n",
      "            (     'Texas', 2008),\n",
      "            (     'Texas', 2018)],\n",
      "           )\n"
     ]
    }
   ],
   "source": [
    "import pandas as pd\n",
    "import numpy as np\n",
    "\n",
    "index = [('California', 2008), ('California', 2018),\n",
    "         ('New York', 2008), ('New York', 2018),\n",
    "         ('Texas', 2008), ('Texas', 2018)]\n",
    "mul_index = pd.MultiIndex.from_tuples(index)\n",
    "print(mul_index)"
   ]
  },
  {
   "cell_type": "markdown",
   "metadata": {},
   "source": [
    "构建一个带有多维索引的`Series`类型数据"
   ]
  },
  {
   "cell_type": "code",
   "execution_count": 4,
   "metadata": {},
   "outputs": [
    {
     "name": "stdout",
     "output_type": "stream",
     "text": [
      "California  2008    33870000\n",
      "            2018    37250000\n",
      "New York    2008    18970000\n",
      "            2018    19370000\n",
      "Texas       2008    20850000\n",
      "            2018    25140000\n",
      "dtype: int64\n"
     ]
    }
   ],
   "source": [
    "population = [33870000, 37250000,\n",
    "               18970000, 19370000,\n",
    "               20850000, 25140000]\n",
    "\n",
    "pop = pd.Series(population, index=mul_index)\n",
    "print(pop)"
   ]
  },
  {
   "cell_type": "markdown",
   "metadata": {},
   "source": [
    "其中，前两列表示`Series`的多级索引，第三列表示数据\n",
    "\n",
    "获取2018年的所有数据，用二维切片的方式"
   ]
  },
  {
   "cell_type": "code",
   "execution_count": 5,
   "metadata": {},
   "outputs": [
    {
     "name": "stdout",
     "output_type": "stream",
     "text": [
      "California    37250000\n",
      "New York      19370000\n",
      "Texas         25140000\n",
      "dtype: int64\n"
     ]
    }
   ],
   "source": [
    "print(pop[:, 2018])"
   ]
  },
  {
   "cell_type": "markdown",
   "metadata": {},
   "source": [
    "### 多级`Series`和普通`DataFrmae`的转换"
   ]
  },
  {
   "cell_type": "markdown",
   "metadata": {},
   "source": [
    "`unstack( )`方法可以使一个带有多级索引的`Series`转化为一个普通的`DataFrame`对象，而`stack( )`方法实现的则是相反方向的操作"
   ]
  },
  {
   "cell_type": "code",
   "execution_count": 6,
   "metadata": {},
   "outputs": [
    {
     "name": "stdout",
     "output_type": "stream",
     "text": [
      "                2008      2018\n",
      "California  33870000  37250000\n",
      "New York    18970000  19370000\n",
      "Texas       20850000  25140000\n",
      "California  2008    33870000\n",
      "            2018    37250000\n",
      "New York    2008    18970000\n",
      "            2018    19370000\n",
      "Texas       2008    20850000\n",
      "            2018    25140000\n",
      "dtype: int64\n"
     ]
    }
   ],
   "source": [
    "df_pop = pop.unstack()\n",
    "print(df_pop)\n",
    "print(df_pop.stack())"
   ]
  },
  {
   "cell_type": "markdown",
   "metadata": {},
   "source": [
    "### 多级索引`DataFrame`类型"
   ]
  },
  {
   "cell_type": "code",
   "execution_count": 7,
   "metadata": {},
   "outputs": [
    {
     "name": "stdout",
     "output_type": "stream",
     "text": [
      "                    total  under18\n",
      "California 2008  33870000  9267089\n",
      "           2018  37250000  9284094\n",
      "New York   2008  18970000  4687374\n",
      "           2018  19370000  4318033\n",
      "Texas      2008  20850000  5906301\n",
      "           2018  25140000  6879014\n"
     ]
    }
   ],
   "source": [
    "index = [('California', 2008), ('California', 2018),\n",
    "         ('New York', 2008), ('New York', 2018),\n",
    "         ('Texas', 2008), ('Texas', 2018)]\n",
    "\n",
    "mul_index = pd.MultiIndex.from_tuples(index)\n",
    "population = [33870000, 37250000,18970000, 19370000, 20850000, 25140000]\n",
    "under_18_pop = [9267089, 9284094, 4687374, 4318033, 5906301, 6879014]\n",
    "\n",
    "pop = pd.Series(population, index=mul_index)\n",
    "pop_df = pd.DataFrame({'total':pop,\n",
    "                       'under18':under_18_pop})\n",
    "print(pop_df)"
   ]
  },
  {
   "cell_type": "markdown",
   "metadata": {},
   "source": [
    "这种有多级索引的`DataFrame`，同样也是运用类似`pop_df['total']`这种字典键的形式来获取列信息"
   ]
  },
  {
   "cell_type": "code",
   "execution_count": 8,
   "metadata": {},
   "outputs": [
    {
     "name": "stdout",
     "output_type": "stream",
     "text": [
      "California  2008    9267089\n",
      "            2018    9284094\n",
      "New York    2008    4687374\n",
      "            2018    4318033\n",
      "Texas       2008    5906301\n",
      "            2018    6879014\n",
      "Name: under18, dtype: int64\n",
      "California  2008    0.273608\n",
      "            2018    0.249237\n",
      "New York    2008    0.247094\n",
      "            2018    0.222924\n",
      "Texas       2008    0.283276\n",
      "            2018    0.273628\n",
      "dtype: float64\n"
     ]
    }
   ],
   "source": [
    "print(pop_df['under18'])\n",
    "print(pop_df['under18']/pop_df['total'])"
   ]
  },
  {
   "cell_type": "markdown",
   "metadata": {},
   "source": [
    "### 多级索引的创建方法"
   ]
  },
  {
   "cell_type": "markdown",
   "metadata": {},
   "source": [
    "* **嵌套列表创建**"
   ]
  },
  {
   "cell_type": "code",
   "execution_count": 9,
   "metadata": {},
   "outputs": [
    {
     "name": "stdout",
     "output_type": "stream",
     "text": [
      "MultiIndex([('a', 1),\n",
      "            ('a', 2),\n",
      "            ('b', 1),\n",
      "            ('b', 2)],\n",
      "           )\n"
     ]
    }
   ],
   "source": [
    "mul_index = pd.MultiIndex.from_arrays([['a', 'a', 'b', 'b'],[1,2,1,2]])\n",
    "print(mul_index)"
   ]
  },
  {
   "cell_type": "markdown",
   "metadata": {},
   "source": [
    "* **元组列表创建**"
   ]
  },
  {
   "cell_type": "code",
   "execution_count": 10,
   "metadata": {},
   "outputs": [
    {
     "name": "stdout",
     "output_type": "stream",
     "text": [
      "MultiIndex([('a', 1),\n",
      "            ('a', 0),\n",
      "            ('b', 1),\n",
      "            ('b', 0)],\n",
      "           )\n"
     ]
    }
   ],
   "source": [
    "mul_index = pd.MultiIndex.from_tuples([('a', 1), ('a', 0), ('b', 1), ('b', 0)])\n",
    "print(mul_index)"
   ]
  },
  {
   "cell_type": "markdown",
   "metadata": {},
   "source": [
    "* **`levels`和`labels`标签直接创建**"
   ]
  },
  {
   "cell_type": "code",
   "execution_count": 11,
   "metadata": {},
   "outputs": [
    {
     "name": "stdout",
     "output_type": "stream",
     "text": [
      "MultiIndex([('a', 1),\n",
      "            ('a', 0),\n",
      "            ('b', 1),\n",
      "            ('b', 0)],\n",
      "           )\n"
     ]
    }
   ],
   "source": [
    "mul_index = pd.MultiIndex(levels=[['a', 'b'], [0, 1]],\n",
    "           codes=[[0, 0, 1, 1], [1, 0, 1, 0]])\n",
    "print(mul_index)"
   ]
  },
  {
   "cell_type": "markdown",
   "metadata": {},
   "source": [
    "* **索引“相城”形式创建**"
   ]
  },
  {
   "cell_type": "code",
   "execution_count": 12,
   "metadata": {},
   "outputs": [
    {
     "name": "stdout",
     "output_type": "stream",
     "text": [
      "MultiIndex([(2008, 1),\n",
      "            (2008, 2),\n",
      "            (2018, 1),\n",
      "            (2018, 2)],\n",
      "           )\n"
     ]
    }
   ],
   "source": [
    "mul_index = pd.MultiIndex.from_product([[2008,2018],[1,2]])\n",
    "print(mul_index)"
   ]
  },
  {
   "cell_type": "markdown",
   "metadata": {},
   "source": [
    "***为了更清晰的表征每一个索引列，我们可以给每一个索引都加一个名字***"
   ]
  },
  {
   "cell_type": "code",
   "execution_count": 13,
   "metadata": {},
   "outputs": [
    {
     "name": "stdout",
     "output_type": "stream",
     "text": [
      "state       year\n",
      "California  2008    33870000\n",
      "            2018    37250000\n",
      "New York    2008    18970000\n",
      "            2018    19370000\n",
      "Texas       2008    20850000\n",
      "            2018    25140000\n",
      "dtype: int64\n"
     ]
    }
   ],
   "source": [
    "index = [('California', 2008), ('California', 2018),\n",
    "         ('New York', 2008), ('New York', 2018),\n",
    "         ('Texas', 2008), ('Texas', 2018)]\n",
    "# 加上索引名称\n",
    "mul_index = pd.MultiIndex.from_tuples(index, names=('state', 'year'))\n",
    "population = [33870000, 37250000,18970000, 19370000, 20850000, 25140000]\n",
    "under_18_pop = [9267089, 9284094, 4687374, 4318033, 5906301, 6879014]\n",
    "\n",
    "pop = pd.Series(population, index=mul_index)\n",
    "# pop.index.names = ['state', 'year']\n",
    "print(pop)"
   ]
  },
  {
   "cell_type": "markdown",
   "metadata": {},
   "source": [
    "### 多级行索引和多级列索引举例"
   ]
  },
  {
   "cell_type": "markdown",
   "metadata": {},
   "source": [
    "我们可以设置二维列索引，结合之前的二维行索引，我们就可以表示四维数据了"
   ]
  },
  {
   "cell_type": "code",
   "execution_count": 14,
   "metadata": {},
   "outputs": [
    {
     "name": "stdout",
     "output_type": "stream",
     "text": [
      "MultiIndex([(2008, 1),\n",
      "            (2008, 2),\n",
      "            (2018, 1),\n",
      "            (2018, 2)],\n",
      "           names=['year', 'visit'])\n",
      "MultiIndex([( 'Tom', 22),\n",
      "            ( 'Tom', 18),\n",
      "            ('Bill', 22),\n",
      "            ('Bill', 18)],\n",
      "           names=['name', 'age'])\n",
      "name             Tom                Bill          \n",
      "age               22        18        22        18\n",
      "year visit                                        \n",
      "2008 1      1.948807 -0.277856  0.526454  0.377724\n",
      "     2      0.640332  1.470054  0.725624  0.506353\n",
      "2018 1      0.601660 -0.300470  0.769044 -0.303792\n",
      "     2      1.103208 -0.020874 -2.765182  0.292247\n"
     ]
    }
   ],
   "source": [
    "index = pd.MultiIndex.from_product([[2008,2018],[1,2]],\n",
    "                                      names=['year','visit'])\n",
    "colomus = pd.MultiIndex.from_product([['Tom','Bill'],[22,18]],\n",
    "                                      names=['name','age'])\n",
    "data = np.random.randn(4,4)\n",
    "print(index)\n",
    "print(colomus)\n",
    "df_data = pd.DataFrame(data,index=index,columns=colomus)\n",
    "print(df_data)"
   ]
  },
  {
   "cell_type": "markdown",
   "metadata": {},
   "source": [
    "# 多级索引`Pandas`对象的取值、分片与运算方法 "
   ]
  },
  {
   "cell_type": "markdown",
   "metadata": {},
   "source": [
    "## 多级索引的`Sreies`"
   ]
  },
  {
   "cell_type": "markdown",
   "metadata": {},
   "source": [
    "### 多级索引下的取值方法"
   ]
  },
  {
   "cell_type": "code",
   "execution_count": 15,
   "metadata": {},
   "outputs": [
    {
     "name": "stdout",
     "output_type": "stream",
     "text": [
      "California  2008    33870000\n",
      "            2018    37250000\n",
      "New York    2008    18970000\n",
      "            2018    19370000\n",
      "Texas       2008    20850000\n",
      "            2018    25140000\n",
      "dtype: int64\n"
     ]
    }
   ],
   "source": [
    "index = [('California', 2008), ('California', 2018),\n",
    "         ('New York', 2008), ('New York', 2018),\n",
    "         ('Texas', 2008), ('Texas', 2018)]\n",
    "mul_index = pd.MultiIndex.from_tuples(index)\n",
    "\n",
    "population = [33870000, 37250000,\n",
    "               18970000, 19370000,\n",
    "               20850000, 25140000]\n",
    "\n",
    "pop = pd.Series(population, index=mul_index)\n",
    "print(pop)"
   ]
  },
  {
   "cell_type": "markdown",
   "metadata": {},
   "source": [
    "* 指定每个索引值来获取单个元素值"
   ]
  },
  {
   "cell_type": "code",
   "execution_count": 16,
   "metadata": {},
   "outputs": [
    {
     "name": "stdout",
     "output_type": "stream",
     "text": [
      "18970000\n"
     ]
    }
   ],
   "source": [
    "print(pop['New York', 2008])"
   ]
  },
  {
   "cell_type": "markdown",
   "metadata": {},
   "source": [
    "* 只指定二维索引中的其中一个索引"
   ]
  },
  {
   "cell_type": "code",
   "execution_count": 18,
   "metadata": {},
   "outputs": [
    {
     "name": "stdout",
     "output_type": "stream",
     "text": [
      "2008    18970000\n",
      "2018    19370000\n",
      "dtype: int64\n",
      "California    33870000\n",
      "New York      18970000\n",
      "Texas         20850000\n",
      "dtype: int64\n"
     ]
    }
   ],
   "source": [
    "print(pop['New York'])\n",
    "print(pop[:, 2008])"
   ]
  },
  {
   "cell_type": "markdown",
   "metadata": {},
   "source": [
    "### 多级索引下的切片方法"
   ]
  },
  {
   "cell_type": "markdown",
   "metadata": {},
   "source": [
    "* 先对州索引进行切片，我们看看从加州到纽约的人口数据"
   ]
  },
  {
   "cell_type": "code",
   "execution_count": 19,
   "metadata": {},
   "outputs": [
    {
     "name": "stdout",
     "output_type": "stream",
     "text": [
      "California  2008    33870000\n",
      "            2018    37250000\n",
      "New York    2008    18970000\n",
      "            2018    19370000\n",
      "dtype: int64\n"
     ]
    }
   ],
   "source": [
    "print(pop.loc['California':'New York'])"
   ]
  },
  {
   "cell_type": "markdown",
   "metadata": {},
   "source": [
    "* 再对另一个索引进行切片，看看2008到2018年所有州的人口数据"
   ]
  },
  {
   "cell_type": "code",
   "execution_count": 20,
   "metadata": {},
   "outputs": [
    {
     "name": "stdout",
     "output_type": "stream",
     "text": [
      "California  2008    33870000\n",
      "            2018    37250000\n",
      "New York    2008    18970000\n",
      "            2018    19370000\n",
      "Texas       2008    20850000\n",
      "            2018    25140000\n",
      "dtype: int64\n"
     ]
    }
   ],
   "source": [
    "print(pop.loc[:, 2008:2018])"
   ]
  },
  {
   "cell_type": "markdown",
   "metadata": {},
   "source": [
    "* 过滤"
   ]
  },
  {
   "cell_type": "code",
   "execution_count": 21,
   "metadata": {},
   "outputs": [
    {
     "name": "stdout",
     "output_type": "stream",
     "text": [
      "California  2008    33870000\n",
      "            2018    37250000\n",
      "dtype: int64\n"
     ]
    }
   ],
   "source": [
    "print(pop[pop > 30000000])"
   ]
  },
  {
   "cell_type": "markdown",
   "metadata": {},
   "source": [
    "* 花哨索引"
   ]
  },
  {
   "cell_type": "code",
   "execution_count": 22,
   "metadata": {},
   "outputs": [
    {
     "name": "stdout",
     "output_type": "stream",
     "text": [
      "California  2008    33870000\n",
      "            2018    37250000\n",
      "Texas       2008    20850000\n",
      "            2018    25140000\n",
      "dtype: int64\n"
     ]
    }
   ],
   "source": [
    "print(pop[['California', 'Texas']])"
   ]
  },
  {
   "cell_type": "markdown",
   "metadata": {},
   "source": [
    "## 多级索引的`DataFrame`"
   ]
  },
  {
   "cell_type": "markdown",
   "metadata": {},
   "source": [
    "### 多级索引下的取值方法"
   ]
  },
  {
   "cell_type": "markdown",
   "metadata": {},
   "source": [
    "使用之前的四维`DataFrame`对象`df_data`"
   ]
  },
  {
   "cell_type": "code",
   "execution_count": 23,
   "metadata": {},
   "outputs": [
    {
     "name": "stdout",
     "output_type": "stream",
     "text": [
      "name             Tom                Bill          \n",
      "age               22        18        22        18\n",
      "year visit                                        \n",
      "2008 1      1.948807 -0.277856  0.526454  0.377724\n",
      "     2      0.640332  1.470054  0.725624  0.506353\n",
      "2018 1      0.601660 -0.300470  0.769044 -0.303792\n",
      "     2      1.103208 -0.020874 -2.765182  0.292247\n"
     ]
    }
   ],
   "source": [
    "print(df_data)"
   ]
  },
  {
   "cell_type": "markdown",
   "metadata": {},
   "source": [
    "因为`DataFrame`数据类型的基本索引是列索引，索引首先是应用到列上\n",
    "\n",
    "首先访问`Tom`的数据，数据也因此从四维降维到了三维"
   ]
  },
  {
   "cell_type": "code",
   "execution_count": 24,
   "metadata": {},
   "outputs": [
    {
     "name": "stdout",
     "output_type": "stream",
     "text": [
      "age               22        18\n",
      "year visit                    \n",
      "2008 1      1.948807 -0.277856\n",
      "     2      0.640332  1.470054\n",
      "2018 1      0.601660 -0.300470\n",
      "     2      1.103208 -0.020874\n"
     ]
    }
   ],
   "source": [
    "print(df_data['Tom'])"
   ]
  },
  {
   "cell_type": "markdown",
   "metadata": {},
   "source": [
    "再进一步，访问`Tom`年龄为`22`岁时的数据，将三维`DataFrame`降维变成了二维`Series`对象"
   ]
  },
  {
   "cell_type": "code",
   "execution_count": 25,
   "metadata": {},
   "outputs": [
    {
     "name": "stdout",
     "output_type": "stream",
     "text": [
      "year  visit\n",
      "2008  1        1.948807\n",
      "      2        0.640332\n",
      "2018  1        0.601660\n",
      "      2        1.103208\n",
      "Name: (Tom, 22), dtype: float64\n"
     ]
    }
   ],
   "source": [
    "print(df_data['Tom', 22])"
   ]
  },
  {
   "cell_type": "markdown",
   "metadata": {},
   "source": [
    "然后选择`2008`年的数据，将二维`Series`降为一维"
   ]
  },
  {
   "cell_type": "code",
   "execution_count": 26,
   "metadata": {},
   "outputs": [
    {
     "name": "stdout",
     "output_type": "stream",
     "text": [
      "visit\n",
      "1    1.948807\n",
      "2    0.640332\n",
      "Name: (Tom, 22), dtype: float64\n"
     ]
    }
   ],
   "source": [
    "print(df_data['Tom',22][2008])"
   ]
  },
  {
   "cell_type": "markdown",
   "metadata": {},
   "source": [
    "最后我们选取`visit=1`时的值，即最终定位到具体的一个值"
   ]
  },
  {
   "cell_type": "code",
   "execution_count": 27,
   "metadata": {},
   "outputs": [
    {
     "name": "stdout",
     "output_type": "stream",
     "text": [
      "1.9488074936644946\n"
     ]
    }
   ],
   "source": [
    "print(df_data['Tom',22][2008,1])"
   ]
  },
  {
   "cell_type": "markdown",
   "metadata": {},
   "source": [
    "### 索引器分片方法"
   ]
  },
  {
   "cell_type": "markdown",
   "metadata": {},
   "source": [
    "* 使用`iloc`索引器，`iloc`索引器中均使用索引序号进行分片"
   ]
  },
  {
   "cell_type": "code",
   "execution_count": 29,
   "metadata": {},
   "outputs": [
    {
     "name": "stdout",
     "output_type": "stream",
     "text": [
      "name             Tom                Bill\n",
      "age               22        18        22\n",
      "year visit                              \n",
      "2008 1      1.948807 -0.277856  0.526454\n",
      "     2      0.640332  1.470054  0.725624\n"
     ]
    }
   ],
   "source": [
    "print(df_data.iloc[:2, :3])     # iloc[行， 列]"
   ]
  },
  {
   "cell_type": "markdown",
   "metadata": {},
   "source": [
    "* `DataFrame`一般用序号进行行的索引，用名称进行列的索引，因此，采用多级索引的`DataFrame`数据类型使用ix索引器会更方便一些"
   ]
  },
  {
   "cell_type": "code",
   "execution_count": 30,
   "metadata": {},
   "outputs": [
    {
     "name": "stdout",
     "output_type": "stream",
     "text": [
      "age               22        18\n",
      "year visit                    \n",
      "2008 1      1.948807 -0.277856\n",
      "     2      0.640332  1.470054\n",
      "2018 1      0.601660 -0.300470\n"
     ]
    },
    {
     "name": "stderr",
     "output_type": "stream",
     "text": [
      "D:\\Ananconda\\lib\\site-packages\\ipykernel_launcher.py:1: FutureWarning: \n",
      ".ix is deprecated. Please use\n",
      ".loc for label based indexing or\n",
      ".iloc for positional indexing\n",
      "\n",
      "See the documentation here:\n",
      "http://pandas.pydata.org/pandas-docs/stable/user_guide/indexing.html#ix-indexer-is-deprecated\n",
      "  \"\"\"Entry point for launching an IPython kernel.\n",
      "D:\\Ananconda\\lib\\site-packages\\pandas\\core\\indexing.py:993: FutureWarning: \n",
      ".ix is deprecated. Please use\n",
      ".loc for label based indexing or\n",
      ".iloc for positional indexing\n",
      "\n",
      "See the documentation here:\n",
      "http://pandas.pydata.org/pandas-docs/stable/user_guide/indexing.html#ix-indexer-is-deprecated\n",
      "  obj = getattr(obj, self.name)._getitem_axis(key, axis=axis)\n"
     ]
    }
   ],
   "source": [
    "print(df_data.ix[:3,'Tom'])"
   ]
  },
  {
   "cell_type": "markdown",
   "metadata": {},
   "source": [
    "## 多级索引转换"
   ]
  },
  {
   "cell_type": "markdown",
   "metadata": {},
   "source": [
    "我们可以在不同方向上将`Sreies`类型的多级索引转换为`DataFrame`数据类型"
   ]
  },
  {
   "cell_type": "code",
   "execution_count": 32,
   "metadata": {},
   "outputs": [
    {
     "name": "stdout",
     "output_type": "stream",
     "text": [
      "state  California  New York     Texas\n",
      "year                                 \n",
      "2008     33870000  18970000  20850000\n",
      "2018     37250000  19370000  25140000\n",
      "year            2008      2018\n",
      "state                         \n",
      "California  33870000  37250000\n",
      "New York    18970000  19370000\n",
      "Texas       20850000  25140000\n"
     ]
    }
   ],
   "source": [
    "pop.index.names = ['state', 'year']\n",
    "print(pop.unstack(level=0))\n",
    "print(pop.unstack(level=1))"
   ]
  },
  {
   "cell_type": "markdown",
   "metadata": {},
   "source": [
    "或是不用任何一列作为索引，而是采用默认的整数序列作为索引"
   ]
  },
  {
   "cell_type": "code",
   "execution_count": 33,
   "metadata": {},
   "outputs": [
    {
     "name": "stdout",
     "output_type": "stream",
     "text": [
      "        state  year  population\n",
      "0  California  2008    33870000\n",
      "1  California  2018    37250000\n",
      "2    New York  2008    18970000\n",
      "3    New York  2018    19370000\n",
      "4       Texas  2008    20850000\n",
      "5       Texas  2018    25140000\n"
     ]
    }
   ],
   "source": [
    "print(pop.reset_index(name='population'))"
   ]
  },
  {
   "cell_type": "markdown",
   "metadata": {},
   "source": [
    "反过来，我们可以重新选择任意两列，如：`state`、`population`作为两个索引列"
   ]
  },
  {
   "cell_type": "code",
   "execution_count": 36,
   "metadata": {},
   "outputs": [
    {
     "name": "stdout",
     "output_type": "stream",
     "text": [
      "                       year\n",
      "state      population      \n",
      "California 33870000    2008\n",
      "           37250000    2018\n",
      "New York   18970000    2008\n",
      "           19370000    2018\n",
      "Texas      20850000    2008\n",
      "           25140000    2018\n"
     ]
    }
   ],
   "source": [
    "pop_un = pop.reset_index(name='population')\n",
    "print(pop_un.set_index(['state' ,'population']))"
   ]
  },
  {
   "cell_type": "markdown",
   "metadata": {},
   "source": [
    "## 多级索引的行列统计"
   ]
  },
  {
   "cell_type": "code",
   "execution_count": 37,
   "metadata": {},
   "outputs": [
    {
     "name": "stdout",
     "output_type": "stream",
     "text": [
      "name             Tom                Bill          \n",
      "age               22        18        22        18\n",
      "year visit                                        \n",
      "2008 1      1.948807 -0.277856  0.526454  0.377724\n",
      "     2      0.640332  1.470054  0.725624  0.506353\n",
      "2018 1      0.601660 -0.300470  0.769044 -0.303792\n",
      "     2      1.103208 -0.020874 -2.765182  0.292247\n"
     ]
    }
   ],
   "source": [
    "print(df_data)"
   ]
  },
  {
   "cell_type": "markdown",
   "metadata": {},
   "source": [
    "* 求每年的均值，这是横向上的统计"
   ]
  },
  {
   "cell_type": "code",
   "execution_count": 38,
   "metadata": {},
   "outputs": [
    {
     "name": "stdout",
     "output_type": "stream",
     "text": [
      "name       Tom                Bill          \n",
      "age         22        18        22        18\n",
      "year                                        \n",
      "2008  1.294570  0.596099  0.626039  0.442039\n",
      "2018  0.852434 -0.160672 -0.998069 -0.005773\n"
     ]
    }
   ],
   "source": [
    "print(df_data.mean(level='year'))"
   ]
  },
  {
   "cell_type": "markdown",
   "metadata": {},
   "source": [
    "* 再从另一个方向上，按年龄来，求每个年龄对应的值的和"
   ]
  },
  {
   "cell_type": "code",
   "execution_count": 39,
   "metadata": {},
   "outputs": [
    {
     "name": "stdout",
     "output_type": "stream",
     "text": [
      "age               22        18\n",
      "year visit                    \n",
      "2008 1      2.475262  0.099869\n",
      "     2      1.365955  1.976408\n",
      "2018 1      1.370704 -0.604263\n",
      "     2     -1.661974  0.271372\n"
     ]
    }
   ],
   "source": [
    "print(df_data.sum(axis=1, level='age'))"
   ]
  }
 ],
 "metadata": {
  "kernelspec": {
   "display_name": "Python 3",
   "language": "python",
   "name": "python3"
  },
  "language_info": {
   "codemirror_mode": {
    "name": "ipython",
    "version": 3
   },
   "file_extension": ".py",
   "mimetype": "text/x-python",
   "name": "python",
   "nbconvert_exporter": "python",
   "pygments_lexer": "ipython3",
   "version": "3.7.4"
  }
 },
 "nbformat": 4,
 "nbformat_minor": 2
}
